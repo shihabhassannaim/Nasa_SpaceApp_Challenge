{
  "nbformat": 4,
  "nbformat_minor": 0,
  "metadata": {
    "colab": {
      "provenance": []
    },
    "kernelspec": {
      "name": "python3",
      "display_name": "Python 3"
    },
    "language_info": {
      "name": "python"
    }
  },
  "cells": [
    {
      "cell_type": "code",
      "execution_count": null,
      "metadata": {
        "id": "yLiNZvB1mk39"
      },
      "outputs": [],
      "source": [
        "import pandas as pd\n",
        "import numpy as np\n",
        "from sklearn.model_selection import train_test_split\n",
        "from sklearn.svm import SVC \n",
        "import matplotlib.pyplot as plt"
      ]
    },
    {
      "cell_type": "code",
      "source": [
        "from google .colab import drive\n",
        "drive.mount('/content/drive')"
      ],
      "metadata": {
        "colab": {
          "base_uri": "https://localhost:8080/"
        },
        "id": "oOsTiQukoiit",
        "outputId": "ef9c1432-89b0-42ed-bec0-1a94ee3fb980"
      },
      "execution_count": null,
      "outputs": [
        {
          "output_type": "stream",
          "name": "stdout",
          "text": [
            "Mounted at /content/drive\n"
          ]
        }
      ]
    },
    {
      "cell_type": "code",
      "source": [
        "data = pd.read_csv(\"/content/drive/MyDrive/Colab Notebooks/Complete-data.csv\")"
      ],
      "metadata": {
        "id": "HcfaFMRwo6Qb"
      },
      "execution_count": null,
      "outputs": []
    },
    {
      "cell_type": "markdown",
      "source": [
        "# New Section"
      ],
      "metadata": {
        "id": "r2XzZu85iUTn"
      }
    },
    {
      "cell_type": "code",
      "source": [
        "data.head()"
      ],
      "metadata": {
        "colab": {
          "base_uri": "https://localhost:8080/",
          "height": 206
        },
        "id": "oJ7Fn4ivh0BC",
        "outputId": "c65683fd-24cc-4937-dcde-32d11c7f9903"
      },
      "execution_count": null,
      "outputs": [
        {
          "output_type": "execute_result",
          "data": {
            "text/plain": [
              "   Landslide  Aspect  Curvature  Earthquake  Elevation  Flow  Lithology  NDVI  \\\n",
              "0          0       3          3           2          2     2          1     4   \n",
              "1          0       1          5           2          3     1          1     4   \n",
              "2          0       3          4           3          2     2          4     3   \n",
              "3          0       1          3           3          3     5          1     2   \n",
              "4          0       5          4           2          1     4          1     2   \n",
              "\n",
              "   NDWI  Plan  Precipitation  Profile  Slope  \n",
              "0     2     2              3        3      2  \n",
              "1     2     5              5        2      2  \n",
              "2     2     4              5        2      2  \n",
              "3     4     3              5        3      3  \n",
              "4     4     3              3        1      4  "
            ],
            "text/html": [
              "\n",
              "  <div id=\"df-73b732ef-bf77-491c-885b-9a939c24bc46\">\n",
              "    <div class=\"colab-df-container\">\n",
              "      <div>\n",
              "<style scoped>\n",
              "    .dataframe tbody tr th:only-of-type {\n",
              "        vertical-align: middle;\n",
              "    }\n",
              "\n",
              "    .dataframe tbody tr th {\n",
              "        vertical-align: top;\n",
              "    }\n",
              "\n",
              "    .dataframe thead th {\n",
              "        text-align: right;\n",
              "    }\n",
              "</style>\n",
              "<table border=\"1\" class=\"dataframe\">\n",
              "  <thead>\n",
              "    <tr style=\"text-align: right;\">\n",
              "      <th></th>\n",
              "      <th>Landslide</th>\n",
              "      <th>Aspect</th>\n",
              "      <th>Curvature</th>\n",
              "      <th>Earthquake</th>\n",
              "      <th>Elevation</th>\n",
              "      <th>Flow</th>\n",
              "      <th>Lithology</th>\n",
              "      <th>NDVI</th>\n",
              "      <th>NDWI</th>\n",
              "      <th>Plan</th>\n",
              "      <th>Precipitation</th>\n",
              "      <th>Profile</th>\n",
              "      <th>Slope</th>\n",
              "    </tr>\n",
              "  </thead>\n",
              "  <tbody>\n",
              "    <tr>\n",
              "      <th>0</th>\n",
              "      <td>0</td>\n",
              "      <td>3</td>\n",
              "      <td>3</td>\n",
              "      <td>2</td>\n",
              "      <td>2</td>\n",
              "      <td>2</td>\n",
              "      <td>1</td>\n",
              "      <td>4</td>\n",
              "      <td>2</td>\n",
              "      <td>2</td>\n",
              "      <td>3</td>\n",
              "      <td>3</td>\n",
              "      <td>2</td>\n",
              "    </tr>\n",
              "    <tr>\n",
              "      <th>1</th>\n",
              "      <td>0</td>\n",
              "      <td>1</td>\n",
              "      <td>5</td>\n",
              "      <td>2</td>\n",
              "      <td>3</td>\n",
              "      <td>1</td>\n",
              "      <td>1</td>\n",
              "      <td>4</td>\n",
              "      <td>2</td>\n",
              "      <td>5</td>\n",
              "      <td>5</td>\n",
              "      <td>2</td>\n",
              "      <td>2</td>\n",
              "    </tr>\n",
              "    <tr>\n",
              "      <th>2</th>\n",
              "      <td>0</td>\n",
              "      <td>3</td>\n",
              "      <td>4</td>\n",
              "      <td>3</td>\n",
              "      <td>2</td>\n",
              "      <td>2</td>\n",
              "      <td>4</td>\n",
              "      <td>3</td>\n",
              "      <td>2</td>\n",
              "      <td>4</td>\n",
              "      <td>5</td>\n",
              "      <td>2</td>\n",
              "      <td>2</td>\n",
              "    </tr>\n",
              "    <tr>\n",
              "      <th>3</th>\n",
              "      <td>0</td>\n",
              "      <td>1</td>\n",
              "      <td>3</td>\n",
              "      <td>3</td>\n",
              "      <td>3</td>\n",
              "      <td>5</td>\n",
              "      <td>1</td>\n",
              "      <td>2</td>\n",
              "      <td>4</td>\n",
              "      <td>3</td>\n",
              "      <td>5</td>\n",
              "      <td>3</td>\n",
              "      <td>3</td>\n",
              "    </tr>\n",
              "    <tr>\n",
              "      <th>4</th>\n",
              "      <td>0</td>\n",
              "      <td>5</td>\n",
              "      <td>4</td>\n",
              "      <td>2</td>\n",
              "      <td>1</td>\n",
              "      <td>4</td>\n",
              "      <td>1</td>\n",
              "      <td>2</td>\n",
              "      <td>4</td>\n",
              "      <td>3</td>\n",
              "      <td>3</td>\n",
              "      <td>1</td>\n",
              "      <td>4</td>\n",
              "    </tr>\n",
              "  </tbody>\n",
              "</table>\n",
              "</div>\n",
              "      <button class=\"colab-df-convert\" onclick=\"convertToInteractive('df-73b732ef-bf77-491c-885b-9a939c24bc46')\"\n",
              "              title=\"Convert this dataframe to an interactive table.\"\n",
              "              style=\"display:none;\">\n",
              "        \n",
              "  <svg xmlns=\"http://www.w3.org/2000/svg\" height=\"24px\"viewBox=\"0 0 24 24\"\n",
              "       width=\"24px\">\n",
              "    <path d=\"M0 0h24v24H0V0z\" fill=\"none\"/>\n",
              "    <path d=\"M18.56 5.44l.94 2.06.94-2.06 2.06-.94-2.06-.94-.94-2.06-.94 2.06-2.06.94zm-11 1L8.5 8.5l.94-2.06 2.06-.94-2.06-.94L8.5 2.5l-.94 2.06-2.06.94zm10 10l.94 2.06.94-2.06 2.06-.94-2.06-.94-.94-2.06-.94 2.06-2.06.94z\"/><path d=\"M17.41 7.96l-1.37-1.37c-.4-.4-.92-.59-1.43-.59-.52 0-1.04.2-1.43.59L10.3 9.45l-7.72 7.72c-.78.78-.78 2.05 0 2.83L4 21.41c.39.39.9.59 1.41.59.51 0 1.02-.2 1.41-.59l7.78-7.78 2.81-2.81c.8-.78.8-2.07 0-2.86zM5.41 20L4 18.59l7.72-7.72 1.47 1.35L5.41 20z\"/>\n",
              "  </svg>\n",
              "      </button>\n",
              "      \n",
              "  <style>\n",
              "    .colab-df-container {\n",
              "      display:flex;\n",
              "      flex-wrap:wrap;\n",
              "      gap: 12px;\n",
              "    }\n",
              "\n",
              "    .colab-df-convert {\n",
              "      background-color: #E8F0FE;\n",
              "      border: none;\n",
              "      border-radius: 50%;\n",
              "      cursor: pointer;\n",
              "      display: none;\n",
              "      fill: #1967D2;\n",
              "      height: 32px;\n",
              "      padding: 0 0 0 0;\n",
              "      width: 32px;\n",
              "    }\n",
              "\n",
              "    .colab-df-convert:hover {\n",
              "      background-color: #E2EBFA;\n",
              "      box-shadow: 0px 1px 2px rgba(60, 64, 67, 0.3), 0px 1px 3px 1px rgba(60, 64, 67, 0.15);\n",
              "      fill: #174EA6;\n",
              "    }\n",
              "\n",
              "    [theme=dark] .colab-df-convert {\n",
              "      background-color: #3B4455;\n",
              "      fill: #D2E3FC;\n",
              "    }\n",
              "\n",
              "    [theme=dark] .colab-df-convert:hover {\n",
              "      background-color: #434B5C;\n",
              "      box-shadow: 0px 1px 3px 1px rgba(0, 0, 0, 0.15);\n",
              "      filter: drop-shadow(0px 1px 2px rgba(0, 0, 0, 0.3));\n",
              "      fill: #FFFFFF;\n",
              "    }\n",
              "  </style>\n",
              "\n",
              "      <script>\n",
              "        const buttonEl =\n",
              "          document.querySelector('#df-73b732ef-bf77-491c-885b-9a939c24bc46 button.colab-df-convert');\n",
              "        buttonEl.style.display =\n",
              "          google.colab.kernel.accessAllowed ? 'block' : 'none';\n",
              "\n",
              "        async function convertToInteractive(key) {\n",
              "          const element = document.querySelector('#df-73b732ef-bf77-491c-885b-9a939c24bc46');\n",
              "          const dataTable =\n",
              "            await google.colab.kernel.invokeFunction('convertToInteractive',\n",
              "                                                     [key], {});\n",
              "          if (!dataTable) return;\n",
              "\n",
              "          const docLinkHtml = 'Like what you see? Visit the ' +\n",
              "            '<a target=\"_blank\" href=https://colab.research.google.com/notebooks/data_table.ipynb>data table notebook</a>'\n",
              "            + ' to learn more about interactive tables.';\n",
              "          element.innerHTML = '';\n",
              "          dataTable['output_type'] = 'display_data';\n",
              "          await google.colab.output.renderOutput(dataTable, element);\n",
              "          const docLink = document.createElement('div');\n",
              "          docLink.innerHTML = docLinkHtml;\n",
              "          element.appendChild(docLink);\n",
              "        }\n",
              "      </script>\n",
              "    </div>\n",
              "  </div>\n",
              "  "
            ]
          },
          "metadata": {},
          "execution_count": 5
        }
      ]
    },
    {
      "cell_type": "code",
      "source": [
        "data.describe()"
      ],
      "metadata": {
        "id": "6QjCEir7OC9B",
        "outputId": "3631b33e-670c-45e8-d53c-91e9faef8a46",
        "colab": {
          "base_uri": "https://localhost:8080/",
          "height": 364
        }
      },
      "execution_count": null,
      "outputs": [
        {
          "output_type": "execute_result",
          "data": {
            "text/plain": [
              "         Landslide       Aspect    Curvature   Earthquake    Elevation  \\\n",
              "count  1212.000000  1212.000000  1212.000000  1212.000000  1212.000000   \n",
              "mean      0.500000     2.962046     2.977723     2.102310     2.436469   \n",
              "std       0.500206     1.147378     1.099658     0.669812     1.242686   \n",
              "min       0.000000     1.000000     1.000000     1.000000     1.000000   \n",
              "25%       0.000000     2.000000     2.000000     2.000000     1.000000   \n",
              "50%       0.500000     3.000000     3.000000     2.000000     2.000000   \n",
              "75%       1.000000     4.000000     4.000000     3.000000     3.000000   \n",
              "max       1.000000     5.000000     5.000000     3.000000     5.000000   \n",
              "\n",
              "              Flow    Lithology         NDVI         NDWI         Plan  \\\n",
              "count  1212.000000  1212.000000  1212.000000  1212.000000  1212.000000   \n",
              "mean      2.338284     1.948845     3.042904     2.773927     3.059406   \n",
              "std       1.112686     1.424345     1.239246     1.299830     1.057287   \n",
              "min       1.000000     1.000000     1.000000     1.000000     1.000000   \n",
              "25%       2.000000     1.000000     2.000000     2.000000     2.000000   \n",
              "50%       2.000000     1.000000     3.000000     3.000000     3.000000   \n",
              "75%       3.000000     3.000000     4.000000     4.000000     4.000000   \n",
              "max       5.000000     6.000000     5.000000     5.000000     5.000000   \n",
              "\n",
              "       Precipitation      Profile        Slope  \n",
              "count    1212.000000  1212.000000  1212.000000  \n",
              "mean        3.813531     3.262376     2.811881  \n",
              "std         1.347799     1.039502     1.194229  \n",
              "min         1.000000     1.000000     1.000000  \n",
              "25%         3.000000     3.000000     2.000000  \n",
              "50%         4.000000     3.000000     3.000000  \n",
              "75%         5.000000     4.000000     4.000000  \n",
              "max         5.000000     5.000000     5.000000  "
            ],
            "text/html": [
              "\n",
              "  <div id=\"df-1ac305cf-1c96-467d-9775-bbf84e9115f2\">\n",
              "    <div class=\"colab-df-container\">\n",
              "      <div>\n",
              "<style scoped>\n",
              "    .dataframe tbody tr th:only-of-type {\n",
              "        vertical-align: middle;\n",
              "    }\n",
              "\n",
              "    .dataframe tbody tr th {\n",
              "        vertical-align: top;\n",
              "    }\n",
              "\n",
              "    .dataframe thead th {\n",
              "        text-align: right;\n",
              "    }\n",
              "</style>\n",
              "<table border=\"1\" class=\"dataframe\">\n",
              "  <thead>\n",
              "    <tr style=\"text-align: right;\">\n",
              "      <th></th>\n",
              "      <th>Landslide</th>\n",
              "      <th>Aspect</th>\n",
              "      <th>Curvature</th>\n",
              "      <th>Earthquake</th>\n",
              "      <th>Elevation</th>\n",
              "      <th>Flow</th>\n",
              "      <th>Lithology</th>\n",
              "      <th>NDVI</th>\n",
              "      <th>NDWI</th>\n",
              "      <th>Plan</th>\n",
              "      <th>Precipitation</th>\n",
              "      <th>Profile</th>\n",
              "      <th>Slope</th>\n",
              "    </tr>\n",
              "  </thead>\n",
              "  <tbody>\n",
              "    <tr>\n",
              "      <th>count</th>\n",
              "      <td>1212.000000</td>\n",
              "      <td>1212.000000</td>\n",
              "      <td>1212.000000</td>\n",
              "      <td>1212.000000</td>\n",
              "      <td>1212.000000</td>\n",
              "      <td>1212.000000</td>\n",
              "      <td>1212.000000</td>\n",
              "      <td>1212.000000</td>\n",
              "      <td>1212.000000</td>\n",
              "      <td>1212.000000</td>\n",
              "      <td>1212.000000</td>\n",
              "      <td>1212.000000</td>\n",
              "      <td>1212.000000</td>\n",
              "    </tr>\n",
              "    <tr>\n",
              "      <th>mean</th>\n",
              "      <td>0.500000</td>\n",
              "      <td>2.962046</td>\n",
              "      <td>2.977723</td>\n",
              "      <td>2.102310</td>\n",
              "      <td>2.436469</td>\n",
              "      <td>2.338284</td>\n",
              "      <td>1.948845</td>\n",
              "      <td>3.042904</td>\n",
              "      <td>2.773927</td>\n",
              "      <td>3.059406</td>\n",
              "      <td>3.813531</td>\n",
              "      <td>3.262376</td>\n",
              "      <td>2.811881</td>\n",
              "    </tr>\n",
              "    <tr>\n",
              "      <th>std</th>\n",
              "      <td>0.500206</td>\n",
              "      <td>1.147378</td>\n",
              "      <td>1.099658</td>\n",
              "      <td>0.669812</td>\n",
              "      <td>1.242686</td>\n",
              "      <td>1.112686</td>\n",
              "      <td>1.424345</td>\n",
              "      <td>1.239246</td>\n",
              "      <td>1.299830</td>\n",
              "      <td>1.057287</td>\n",
              "      <td>1.347799</td>\n",
              "      <td>1.039502</td>\n",
              "      <td>1.194229</td>\n",
              "    </tr>\n",
              "    <tr>\n",
              "      <th>min</th>\n",
              "      <td>0.000000</td>\n",
              "      <td>1.000000</td>\n",
              "      <td>1.000000</td>\n",
              "      <td>1.000000</td>\n",
              "      <td>1.000000</td>\n",
              "      <td>1.000000</td>\n",
              "      <td>1.000000</td>\n",
              "      <td>1.000000</td>\n",
              "      <td>1.000000</td>\n",
              "      <td>1.000000</td>\n",
              "      <td>1.000000</td>\n",
              "      <td>1.000000</td>\n",
              "      <td>1.000000</td>\n",
              "    </tr>\n",
              "    <tr>\n",
              "      <th>25%</th>\n",
              "      <td>0.000000</td>\n",
              "      <td>2.000000</td>\n",
              "      <td>2.000000</td>\n",
              "      <td>2.000000</td>\n",
              "      <td>1.000000</td>\n",
              "      <td>2.000000</td>\n",
              "      <td>1.000000</td>\n",
              "      <td>2.000000</td>\n",
              "      <td>2.000000</td>\n",
              "      <td>2.000000</td>\n",
              "      <td>3.000000</td>\n",
              "      <td>3.000000</td>\n",
              "      <td>2.000000</td>\n",
              "    </tr>\n",
              "    <tr>\n",
              "      <th>50%</th>\n",
              "      <td>0.500000</td>\n",
              "      <td>3.000000</td>\n",
              "      <td>3.000000</td>\n",
              "      <td>2.000000</td>\n",
              "      <td>2.000000</td>\n",
              "      <td>2.000000</td>\n",
              "      <td>1.000000</td>\n",
              "      <td>3.000000</td>\n",
              "      <td>3.000000</td>\n",
              "      <td>3.000000</td>\n",
              "      <td>4.000000</td>\n",
              "      <td>3.000000</td>\n",
              "      <td>3.000000</td>\n",
              "    </tr>\n",
              "    <tr>\n",
              "      <th>75%</th>\n",
              "      <td>1.000000</td>\n",
              "      <td>4.000000</td>\n",
              "      <td>4.000000</td>\n",
              "      <td>3.000000</td>\n",
              "      <td>3.000000</td>\n",
              "      <td>3.000000</td>\n",
              "      <td>3.000000</td>\n",
              "      <td>4.000000</td>\n",
              "      <td>4.000000</td>\n",
              "      <td>4.000000</td>\n",
              "      <td>5.000000</td>\n",
              "      <td>4.000000</td>\n",
              "      <td>4.000000</td>\n",
              "    </tr>\n",
              "    <tr>\n",
              "      <th>max</th>\n",
              "      <td>1.000000</td>\n",
              "      <td>5.000000</td>\n",
              "      <td>5.000000</td>\n",
              "      <td>3.000000</td>\n",
              "      <td>5.000000</td>\n",
              "      <td>5.000000</td>\n",
              "      <td>6.000000</td>\n",
              "      <td>5.000000</td>\n",
              "      <td>5.000000</td>\n",
              "      <td>5.000000</td>\n",
              "      <td>5.000000</td>\n",
              "      <td>5.000000</td>\n",
              "      <td>5.000000</td>\n",
              "    </tr>\n",
              "  </tbody>\n",
              "</table>\n",
              "</div>\n",
              "      <button class=\"colab-df-convert\" onclick=\"convertToInteractive('df-1ac305cf-1c96-467d-9775-bbf84e9115f2')\"\n",
              "              title=\"Convert this dataframe to an interactive table.\"\n",
              "              style=\"display:none;\">\n",
              "        \n",
              "  <svg xmlns=\"http://www.w3.org/2000/svg\" height=\"24px\"viewBox=\"0 0 24 24\"\n",
              "       width=\"24px\">\n",
              "    <path d=\"M0 0h24v24H0V0z\" fill=\"none\"/>\n",
              "    <path d=\"M18.56 5.44l.94 2.06.94-2.06 2.06-.94-2.06-.94-.94-2.06-.94 2.06-2.06.94zm-11 1L8.5 8.5l.94-2.06 2.06-.94-2.06-.94L8.5 2.5l-.94 2.06-2.06.94zm10 10l.94 2.06.94-2.06 2.06-.94-2.06-.94-.94-2.06-.94 2.06-2.06.94z\"/><path d=\"M17.41 7.96l-1.37-1.37c-.4-.4-.92-.59-1.43-.59-.52 0-1.04.2-1.43.59L10.3 9.45l-7.72 7.72c-.78.78-.78 2.05 0 2.83L4 21.41c.39.39.9.59 1.41.59.51 0 1.02-.2 1.41-.59l7.78-7.78 2.81-2.81c.8-.78.8-2.07 0-2.86zM5.41 20L4 18.59l7.72-7.72 1.47 1.35L5.41 20z\"/>\n",
              "  </svg>\n",
              "      </button>\n",
              "      \n",
              "  <style>\n",
              "    .colab-df-container {\n",
              "      display:flex;\n",
              "      flex-wrap:wrap;\n",
              "      gap: 12px;\n",
              "    }\n",
              "\n",
              "    .colab-df-convert {\n",
              "      background-color: #E8F0FE;\n",
              "      border: none;\n",
              "      border-radius: 50%;\n",
              "      cursor: pointer;\n",
              "      display: none;\n",
              "      fill: #1967D2;\n",
              "      height: 32px;\n",
              "      padding: 0 0 0 0;\n",
              "      width: 32px;\n",
              "    }\n",
              "\n",
              "    .colab-df-convert:hover {\n",
              "      background-color: #E2EBFA;\n",
              "      box-shadow: 0px 1px 2px rgba(60, 64, 67, 0.3), 0px 1px 3px 1px rgba(60, 64, 67, 0.15);\n",
              "      fill: #174EA6;\n",
              "    }\n",
              "\n",
              "    [theme=dark] .colab-df-convert {\n",
              "      background-color: #3B4455;\n",
              "      fill: #D2E3FC;\n",
              "    }\n",
              "\n",
              "    [theme=dark] .colab-df-convert:hover {\n",
              "      background-color: #434B5C;\n",
              "      box-shadow: 0px 1px 3px 1px rgba(0, 0, 0, 0.15);\n",
              "      filter: drop-shadow(0px 1px 2px rgba(0, 0, 0, 0.3));\n",
              "      fill: #FFFFFF;\n",
              "    }\n",
              "  </style>\n",
              "\n",
              "      <script>\n",
              "        const buttonEl =\n",
              "          document.querySelector('#df-1ac305cf-1c96-467d-9775-bbf84e9115f2 button.colab-df-convert');\n",
              "        buttonEl.style.display =\n",
              "          google.colab.kernel.accessAllowed ? 'block' : 'none';\n",
              "\n",
              "        async function convertToInteractive(key) {\n",
              "          const element = document.querySelector('#df-1ac305cf-1c96-467d-9775-bbf84e9115f2');\n",
              "          const dataTable =\n",
              "            await google.colab.kernel.invokeFunction('convertToInteractive',\n",
              "                                                     [key], {});\n",
              "          if (!dataTable) return;\n",
              "\n",
              "          const docLinkHtml = 'Like what you see? Visit the ' +\n",
              "            '<a target=\"_blank\" href=https://colab.research.google.com/notebooks/data_table.ipynb>data table notebook</a>'\n",
              "            + ' to learn more about interactive tables.';\n",
              "          element.innerHTML = '';\n",
              "          dataTable['output_type'] = 'display_data';\n",
              "          await google.colab.output.renderOutput(dataTable, element);\n",
              "          const docLink = document.createElement('div');\n",
              "          docLink.innerHTML = docLinkHtml;\n",
              "          element.appendChild(docLink);\n",
              "        }\n",
              "      </script>\n",
              "    </div>\n",
              "  </div>\n",
              "  "
            ]
          },
          "metadata": {},
          "execution_count": 6
        }
      ]
    },
    {
      "cell_type": "code",
      "source": [
        "x = data.drop(\"Landslide\",axis=1)\n"
      ],
      "metadata": {
        "id": "x9Yz9YEVpsVy"
      },
      "execution_count": null,
      "outputs": []
    },
    {
      "cell_type": "code",
      "source": [
        "y = data['Landslide']"
      ],
      "metadata": {
        "id": "c6bxXVAmqc-x"
      },
      "execution_count": null,
      "outputs": []
    },
    {
      "cell_type": "code",
      "source": [
        "print(y)"
      ],
      "metadata": {
        "colab": {
          "base_uri": "https://localhost:8080/"
        },
        "id": "QDjG974Cqh2H",
        "outputId": "86c1b949-31be-4e70-f10e-2153b6ac016a"
      },
      "execution_count": null,
      "outputs": [
        {
          "output_type": "stream",
          "name": "stdout",
          "text": [
            "0       0\n",
            "1       0\n",
            "2       0\n",
            "3       0\n",
            "4       0\n",
            "       ..\n",
            "1207    1\n",
            "1208    1\n",
            "1209    1\n",
            "1210    1\n",
            "1211    1\n",
            "Name: Landslide, Length: 1212, dtype: int64\n"
          ]
        }
      ]
    },
    {
      "cell_type": "markdown",
      "source": [
        "SVM"
      ],
      "metadata": {
        "id": "gMSS5MwxtQcy"
      }
    },
    {
      "cell_type": "code",
      "source": [
        "X_train , X_test , Y_train , Y_test = train_test_split(x,y,test_size =0.50,random_state = 10 )"
      ],
      "metadata": {
        "id": "JRFw3Oo8qvgu"
      },
      "execution_count": null,
      "outputs": []
    },
    {
      "cell_type": "code",
      "source": [
        "SVM_rbf = SVC(kernel = 'rbf',random_state=100 , gamma=3.0 ,C=1.5)\n",
        "SVM_classifier = SVM_rbf.fit(X_train , Y_train)\n",
        "SVM_predicion = SVM_classifier.predict(X_test)\n",
        "#SVM_single_prediction = SVM_classifier.predict([[15,136,70,32,110,37.1 ,0.153,43]])\n",
        "#print(SVM_predicion)"
      ],
      "metadata": {
        "id": "HDohGhrwv5hW"
      },
      "execution_count": null,
      "outputs": []
    },
    {
      "cell_type": "code",
      "source": [
        "from sklearn import metrics\n",
        "fpr, tpr, threshold = metrics.roc_curve(Y_test,  SVM_predicion)"
      ],
      "metadata": {
        "id": "FoSUnftTSngp"
      },
      "execution_count": null,
      "outputs": []
    },
    {
      "cell_type": "code",
      "source": [
        "#create ROC curve\n",
        "plt.plot(fpr,tpr)\n",
        "plt.ylabel('True Positive Rate')\n",
        "plt.xlabel('False Positive Rate')\n",
        "plt.legend()\n",
        "plt.show()"
      ],
      "metadata": {
        "colab": {
          "base_uri": "https://localhost:8080/",
          "height": 296
        },
        "id": "kv8rnjJRTtWq",
        "outputId": "0fcbfa8d-c323-4fb9-9645-0ae1bb0145fa"
      },
      "execution_count": null,
      "outputs": [
        {
          "output_type": "stream",
          "name": "stderr",
          "text": [
            "WARNING:matplotlib.legend:No handles with labels found to put in legend.\n"
          ]
        },
        {
          "output_type": "display_data",
          "data": {
            "text/plain": [
              "<Figure size 432x288 with 1 Axes>"
            ],
            "image/png": "[encoded data removed]"
          },
          "metadata": {
            "needs_background": "light"
          }
        }
      ]
    },
    {
      "cell_type": "code",
      "source": [
        "from sklearn.metrics import plot_confusion_matrix"
      ],
      "metadata": {
        "id": "hT71ULyPy6MZ"
      },
      "execution_count": null,
      "outputs": []
    },
    {
      "cell_type": "code",
      "source": [
        "from sklearn.metrics import confusion_matrix ,classification_report"
      ],
      "metadata": {
        "id": "IOt9XSkLzIqo"
      },
      "execution_count": null,
      "outputs": []
    },
    {
      "cell_type": "code",
      "source": [
        "CM= confusion_matrix(Y_test,SVM_predicion)\n",
        "print(CM)\n",
        "CR = classification_report(Y_test,SVM_predicion)\n",
        "print(CR)"
      ],
      "metadata": {
        "colab": {
          "base_uri": "https://localhost:8080/"
        },
        "id": "yH_LhI-wxxOi",
        "outputId": "a6b86225-625b-4656-d1ae-c57d45d15d33"
      },
      "execution_count": null,
      "outputs": [
        {
          "output_type": "stream",
          "name": "stdout",
          "text": [
            "[[ 15 296]\n",
            " [  4 291]]\n",
            "              precision    recall  f1-score   support\n",
            "\n",
            "           0       0.79      0.05      0.09       311\n",
            "           1       0.50      0.99      0.66       295\n",
            "\n",
            "    accuracy                           0.50       606\n",
            "   macro avg       0.64      0.52      0.38       606\n",
            "weighted avg       0.65      0.50      0.37       606\n",
            "\n"
          ]
        }
      ]
    },
    {
      "cell_type": "code",
      "source": [
        "tn, fp, fn, tp = CM.ravel()\n",
        "tot = CM.sum()\n",
        "print('True Positive Rate', tp/tot)\n",
        "print('True Negative Rate', tn/tot)\n",
        "print('False Positive Rate', fp/tot)\n",
        "print('False Negative Rate', fn/tot)"
      ],
      "metadata": {
        "id": "WjAicXQGVc43"
      },
      "execution_count": null,
      "outputs": []
    },
    {
      "cell_type": "code",
      "source": [
        "data.keys()"
      ],
      "metadata": {
        "colab": {
          "base_uri": "https://localhost:8080/"
        },
        "id": "kOLJPhnWvt_V",
        "outputId": "e85e349a-518a-4b8b-ecff-55af64b66198"
      },
      "execution_count": null,
      "outputs": [
        {
          "output_type": "execute_result",
          "data": {
            "text/plain": [
              "Index(['Landslide', 'Aspect', 'Curvature', 'Earthquake', 'Elevation', 'Flow',\n",
              "       'Lithology', 'NDVI', 'NDWI', 'Plan', 'Precipitation', 'Profile',\n",
              "       'Slope'],\n",
              "      dtype='object')"
            ]
          },
          "metadata": {},
          "execution_count": 18
        }
      ]
    },
    {
      "cell_type": "code",
      "source": [
        "print(\"Landslide True: \", (data.Landslide.values == 1).sum())\n",
        "print(\"Landslide False: \", (data.Landslide.values == 0).sum())"
      ],
      "metadata": {
        "colab": {
          "base_uri": "https://localhost:8080/"
        },
        "id": "W2HxNbYrv2lh",
        "outputId": "ef28f8f7-fd64-459f-9325-984a9a6bdcf8"
      },
      "execution_count": null,
      "outputs": [
        {
          "output_type": "stream",
          "name": "stdout",
          "text": [
            "Landslide True:  606\n",
            "Landslide False:  606\n"
          ]
        }
      ]
    },
    {
      "cell_type": "code",
      "source": [
        "data.max()"
      ],
      "metadata": {
        "colab": {
          "base_uri": "https://localhost:8080/"
        },
        "id": "q-k-5mEywrBA",
        "outputId": "921a75a6-1987-469a-b07e-9fd8a8c8b92a"
      },
      "execution_count": null,
      "outputs": [
        {
          "output_type": "execute_result",
          "data": {
            "text/plain": [
              "Landslide        1\n",
              "Aspect           5\n",
              "Curvature        5\n",
              "Earthquake       3\n",
              "Elevation        5\n",
              "Flow             5\n",
              "Lithology        6\n",
              "NDVI             5\n",
              "NDWI             5\n",
              "Plan             5\n",
              "Precipitation    5\n",
              "Profile          5\n",
              "Slope            5\n",
              "dtype: int64"
            ]
          },
          "metadata": {},
          "execution_count": 20
        }
      ]
    },
    {
      "cell_type": "code",
      "source": [
        "data.min()"
      ],
      "metadata": {
        "colab": {
          "base_uri": "https://localhost:8080/"
        },
        "id": "bM1jZDlWw28w",
        "outputId": "e21db9b4-bc52-469d-ad87-158144a78336"
      },
      "execution_count": null,
      "outputs": [
        {
          "output_type": "execute_result",
          "data": {
            "text/plain": [
              "Landslide        0\n",
              "Aspect           1\n",
              "Curvature        1\n",
              "Earthquake       1\n",
              "Elevation        1\n",
              "Flow             1\n",
              "Lithology        1\n",
              "NDVI             1\n",
              "NDWI             1\n",
              "Plan             1\n",
              "Precipitation    1\n",
              "Profile          1\n",
              "Slope            1\n",
              "dtype: int64"
            ]
          },
          "metadata": {},
          "execution_count": 21
        }
      ]
    },
    {
      "cell_type": "code",
      "source": [
        "data.isnull().sum()"
      ],
      "metadata": {
        "colab": {
          "base_uri": "https://localhost:8080/"
        },
        "id": "rVlCJsQlw8__",
        "outputId": "02cd4a54-0b94-4da9-96c4-83a49a781742"
      },
      "execution_count": null,
      "outputs": [
        {
          "output_type": "execute_result",
          "data": {
            "text/plain": [
              "Landslide        0\n",
              "Aspect           0\n",
              "Curvature        0\n",
              "Earthquake       0\n",
              "Elevation        0\n",
              "Flow             0\n",
              "Lithology        0\n",
              "NDVI             0\n",
              "NDWI             0\n",
              "Plan             0\n",
              "Precipitation    0\n",
              "Profile          0\n",
              "Slope            0\n",
              "dtype: int64"
            ]
          },
          "metadata": {},
          "execution_count": 22
        }
      ]
    },
    {
      "cell_type": "code",
      "source": [
        "data.corr()"
      ],
      "metadata": {
        "colab": {
          "base_uri": "https://localhost:8080/",
          "height": 457
        },
        "id": "JDk0u65OyW0-",
        "outputId": "9d3045da-d5d4-49c2-d5c6-453d8285bfbc"
      },
      "execution_count": null,
      "outputs": [
        {
          "output_type": "execute_result",
          "data": {
            "text/plain": [
              "               Landslide    Aspect  Curvature  Earthquake  Elevation  \\\n",
              "Landslide       1.000000 -0.008633  -0.173393    0.187313  -0.168049   \n",
              "Aspect         -0.008633  1.000000  -0.024232    0.014727   0.017998   \n",
              "Curvature      -0.173393 -0.024232   1.000000   -0.049595   0.193843   \n",
              "Earthquake      0.187313  0.014727  -0.049595    1.000000   0.071308   \n",
              "Elevation      -0.168049  0.017998   0.193843    0.071308   1.000000   \n",
              "Flow           -0.261124  0.024295   0.025736    0.003382   0.026903   \n",
              "Lithology      -0.120538  0.025086   0.058319    0.095507   0.429702   \n",
              "NDVI            0.111900 -0.158561   0.094625   -0.134619  -0.217003   \n",
              "NDWI           -0.194317  0.168099  -0.089028    0.118588   0.187921   \n",
              "Plan           -0.103052 -0.043066   0.815075   -0.022582   0.104691   \n",
              "Precipitation   0.280490 -0.010454  -0.104207    0.825169  -0.003628   \n",
              "Profile         0.169928 -0.015876  -0.806851    0.049177  -0.228721   \n",
              "Slope           0.123029  0.048420   0.143316    0.055050   0.333029   \n",
              "\n",
              "                   Flow  Lithology      NDVI      NDWI      Plan  \\\n",
              "Landslide     -0.261124  -0.120538  0.111900 -0.194317 -0.103052   \n",
              "Aspect         0.024295   0.025086 -0.158561  0.168099 -0.043066   \n",
              "Curvature      0.025736   0.058319  0.094625 -0.089028  0.815075   \n",
              "Earthquake     0.003382   0.095507 -0.134619  0.118588 -0.022582   \n",
              "Elevation      0.026903   0.429702 -0.217003  0.187921  0.104691   \n",
              "Flow           1.000000  -0.033881 -0.393805  0.462291  0.041163   \n",
              "Lithology     -0.033881   1.000000 -0.129279  0.119080  0.008051   \n",
              "NDVI          -0.393805  -0.129279  1.000000 -0.931590  0.102043   \n",
              "NDWI           0.462291   0.119080 -0.931590  1.000000 -0.097774   \n",
              "Plan           0.041163   0.008051  0.102043 -0.097774  1.000000   \n",
              "Precipitation  0.002451   0.005351 -0.096063  0.078201 -0.072768   \n",
              "Profile       -0.011119  -0.048930 -0.042720  0.040269 -0.487539   \n",
              "Slope         -0.078842   0.169103  0.041726 -0.098171  0.055292   \n",
              "\n",
              "               Precipitation   Profile     Slope  \n",
              "Landslide           0.280490  0.169928  0.123029  \n",
              "Aspect             -0.010454 -0.015876  0.048420  \n",
              "Curvature          -0.104207 -0.806851  0.143316  \n",
              "Earthquake          0.825169  0.049177  0.055050  \n",
              "Elevation          -0.003628 -0.228721  0.333029  \n",
              "Flow                0.002451 -0.011119 -0.078842  \n",
              "Lithology           0.005351 -0.048930  0.169103  \n",
              "NDVI               -0.096063 -0.042720  0.041726  \n",
              "NDWI                0.078201  0.040269 -0.098171  \n",
              "Plan               -0.072768 -0.487539  0.055292  \n",
              "Precipitation       1.000000  0.095657  0.002301  \n",
              "Profile             0.095657  1.000000 -0.192357  \n",
              "Slope               0.002301 -0.192357  1.000000  "
            ],
            "text/html": [
              "\n",
              "  <div id=\"df-e0dcc11d-d867-4d1c-8a70-f5869be29801\">\n",
              "    <div class=\"colab-df-container\">\n",
              "      <div>\n",
              "<style scoped>\n",
              "    .dataframe tbody tr th:only-of-type {\n",
              "        vertical-align: middle;\n",
              "    }\n",
              "\n",
              "    .dataframe tbody tr th {\n",
              "        vertical-align: top;\n",
              "    }\n",
              "\n",
              "    .dataframe thead th {\n",
              "        text-align: right;\n",
              "    }\n",
              "</style>\n",
              "<table border=\"1\" class=\"dataframe\">\n",
              "  <thead>\n",
              "    <tr style=\"text-align: right;\">\n",
              "      <th></th>\n",
              "      <th>Landslide</th>\n",
              "      <th>Aspect</th>\n",
              "      <th>Curvature</th>\n",
              "      <th>Earthquake</th>\n",
              "      <th>Elevation</th>\n",
              "      <th>Flow</th>\n",
              "      <th>Lithology</th>\n",
              "      <th>NDVI</th>\n",
              "      <th>NDWI</th>\n",
              "      <th>Plan</th>\n",
              "      <th>Precipitation</th>\n",
              "      <th>Profile</th>\n",
              "      <th>Slope</th>\n",
              "    </tr>\n",
              "  </thead>\n",
              "  <tbody>\n",
              "    <tr>\n",
              "      <th>Landslide</th>\n",
              "      <td>1.000000</td>\n",
              "      <td>-0.008633</td>\n",
              "      <td>-0.173393</td>\n",
              "      <td>0.187313</td>\n",
              "      <td>-0.168049</td>\n",
              "      <td>-0.261124</td>\n",
              "      <td>-0.120538</td>\n",
              "      <td>0.111900</td>\n",
              "      <td>-0.194317</td>\n",
              "      <td>-0.103052</td>\n",
              "      <td>0.280490</td>\n",
              "      <td>0.169928</td>\n",
              "      <td>0.123029</td>\n",
              "    </tr>\n",
              "    <tr>\n",
              "      <th>Aspect</th>\n",
              "      <td>-0.008633</td>\n",
              "      <td>1.000000</td>\n",
              "      <td>-0.024232</td>\n",
              "      <td>0.014727</td>\n",
              "      <td>0.017998</td>\n",
              "      <td>0.024295</td>\n",
              "      <td>0.025086</td>\n",
              "      <td>-0.158561</td>\n",
              "      <td>0.168099</td>\n",
              "      <td>-0.043066</td>\n",
              "      <td>-0.010454</td>\n",
              "      <td>-0.015876</td>\n",
              "      <td>0.048420</td>\n",
              "    </tr>\n",
              "    <tr>\n",
              "      <th>Curvature</th>\n",
              "      <td>-0.173393</td>\n",
              "      <td>-0.024232</td>\n",
              "      <td>1.000000</td>\n",
              "      <td>-0.049595</td>\n",
              "      <td>0.193843</td>\n",
              "      <td>0.025736</td>\n",
              "      <td>0.058319</td>\n",
              "      <td>0.094625</td>\n",
              "      <td>-0.089028</td>\n",
              "      <td>0.815075</td>\n",
              "      <td>-0.104207</td>\n",
              "      <td>-0.806851</td>\n",
              "      <td>0.143316</td>\n",
              "    </tr>\n",
              "    <tr>\n",
              "      <th>Earthquake</th>\n",
              "      <td>0.187313</td>\n",
              "      <td>0.014727</td>\n",
              "      <td>-0.049595</td>\n",
              "      <td>1.000000</td>\n",
              "      <td>0.071308</td>\n",
              "      <td>0.003382</td>\n",
              "      <td>0.095507</td>\n",
              "      <td>-0.134619</td>\n",
              "      <td>0.118588</td>\n",
              "      <td>-0.022582</td>\n",
              "      <td>0.825169</td>\n",
              "      <td>0.049177</td>\n",
              "      <td>0.055050</td>\n",
              "    </tr>\n",
              "    <tr>\n",
              "      <th>Elevation</th>\n",
              "      <td>-0.168049</td>\n",
              "      <td>0.017998</td>\n",
              "      <td>0.193843</td>\n",
              "      <td>0.071308</td>\n",
              "      <td>1.000000</td>\n",
              "      <td>0.026903</td>\n",
              "      <td>0.429702</td>\n",
              "      <td>-0.217003</td>\n",
              "      <td>0.187921</td>\n",
              "      <td>0.104691</td>\n",
              "      <td>-0.003628</td>\n",
              "      <td>-0.228721</td>\n",
              "      <td>0.333029</td>\n",
              "    </tr>\n",
              "    <tr>\n",
              "      <th>Flow</th>\n",
              "      <td>-0.261124</td>\n",
              "      <td>0.024295</td>\n",
              "      <td>0.025736</td>\n",
              "      <td>0.003382</td>\n",
              "      <td>0.026903</td>\n",
              "      <td>1.000000</td>\n",
              "      <td>-0.033881</td>\n",
              "      <td>-0.393805</td>\n",
              "      <td>0.462291</td>\n",
              "      <td>0.041163</td>\n",
              "      <td>0.002451</td>\n",
              "      <td>-0.011119</td>\n",
              "      <td>-0.078842</td>\n",
              "    </tr>\n",
              "    <tr>\n",
              "      <th>Lithology</th>\n",
              "      <td>-0.120538</td>\n",
              "      <td>0.025086</td>\n",
              "      <td>0.058319</td>\n",
              "      <td>0.095507</td>\n",
              "      <td>0.429702</td>\n",
              "      <td>-0.033881</td>\n",
              "      <td>1.000000</td>\n",
              "      <td>-0.129279</td>\n",
              "      <td>0.119080</td>\n",
              "      <td>0.008051</td>\n",
              "      <td>0.005351</td>\n",
              "      <td>-0.048930</td>\n",
              "      <td>0.169103</td>\n",
              "    </tr>\n",
              "    <tr>\n",
              "      <th>NDVI</th>\n",
              "      <td>0.111900</td>\n",
              "      <td>-0.158561</td>\n",
              "      <td>0.094625</td>\n",
              "      <td>-0.134619</td>\n",
              "      <td>-0.217003</td>\n",
              "      <td>-0.393805</td>\n",
              "      <td>-0.129279</td>\n",
              "      <td>1.000000</td>\n",
              "      <td>-0.931590</td>\n",
              "      <td>0.102043</td>\n",
              "      <td>-0.096063</td>\n",
              "      <td>-0.042720</td>\n",
              "      <td>0.041726</td>\n",
              "    </tr>\n",
              "    <tr>\n",
              "      <th>NDWI</th>\n",
              "      <td>-0.194317</td>\n",
              "      <td>0.168099</td>\n",
              "      <td>-0.089028</td>\n",
              "      <td>0.118588</td>\n",
              "      <td>0.187921</td>\n",
              "      <td>0.462291</td>\n",
              "      <td>0.119080</td>\n",
              "      <td>-0.931590</td>\n",
              "      <td>1.000000</td>\n",
              "      <td>-0.097774</td>\n",
              "      <td>0.078201</td>\n",
              "      <td>0.040269</td>\n",
              "      <td>-0.098171</td>\n",
              "    </tr>\n",
              "    <tr>\n",
              "      <th>Plan</th>\n",
              "      <td>-0.103052</td>\n",
              "      <td>-0.043066</td>\n",
              "      <td>0.815075</td>\n",
              "      <td>-0.022582</td>\n",
              "      <td>0.104691</td>\n",
              "      <td>0.041163</td>\n",
              "      <td>0.008051</td>\n",
              "      <td>0.102043</td>\n",
              "      <td>-0.097774</td>\n",
              "      <td>1.000000</td>\n",
              "      <td>-0.072768</td>\n",
              "      <td>-0.487539</td>\n",
              "      <td>0.055292</td>\n",
              "    </tr>\n",
              "    <tr>\n",
              "      <th>Precipitation</th>\n",
              "      <td>0.280490</td>\n",
              "      <td>-0.010454</td>\n",
              "      <td>-0.104207</td>\n",
              "      <td>0.825169</td>\n",
              "      <td>-0.003628</td>\n",
              "      <td>0.002451</td>\n",
              "      <td>0.005351</td>\n",
              "      <td>-0.096063</td>\n",
              "      <td>0.078201</td>\n",
              "      <td>-0.072768</td>\n",
              "      <td>1.000000</td>\n",
              "      <td>0.095657</td>\n",
              "      <td>0.002301</td>\n",
              "    </tr>\n",
              "    <tr>\n",
              "      <th>Profile</th>\n",
              "      <td>0.169928</td>\n",
              "      <td>-0.015876</td>\n",
              "      <td>-0.806851</td>\n",
              "      <td>0.049177</td>\n",
              "      <td>-0.228721</td>\n",
              "      <td>-0.011119</td>\n",
              "      <td>-0.048930</td>\n",
              "      <td>-0.042720</td>\n",
              "      <td>0.040269</td>\n",
              "      <td>-0.487539</td>\n",
              "      <td>0.095657</td>\n",
              "      <td>1.000000</td>\n",
              "      <td>-0.192357</td>\n",
              "    </tr>\n",
              "    <tr>\n",
              "      <th>Slope</th>\n",
              "      <td>0.123029</td>\n",
              "      <td>0.048420</td>\n",
              "      <td>0.143316</td>\n",
              "      <td>0.055050</td>\n",
              "      <td>0.333029</td>\n",
              "      <td>-0.078842</td>\n",
              "      <td>0.169103</td>\n",
              "      <td>0.041726</td>\n",
              "      <td>-0.098171</td>\n",
              "      <td>0.055292</td>\n",
              "      <td>0.002301</td>\n",
              "      <td>-0.192357</td>\n",
              "      <td>1.000000</td>\n",
              "    </tr>\n",
              "  </tbody>\n",
              "</table>\n",
              "</div>\n",
              "      <button class=\"colab-df-convert\" onclick=\"convertToInteractive('df-e0dcc11d-d867-4d1c-8a70-f5869be29801')\"\n",
              "              title=\"Convert this dataframe to an interactive table.\"\n",
              "              style=\"display:none;\">\n",
              "        \n",
              "  <svg xmlns=\"http://www.w3.org/2000/svg\" height=\"24px\"viewBox=\"0 0 24 24\"\n",
              "       width=\"24px\">\n",
              "    <path d=\"M0 0h24v24H0V0z\" fill=\"none\"/>\n",
              "    <path d=\"M18.56 5.44l.94 2.06.94-2.06 2.06-.94-2.06-.94-.94-2.06-.94 2.06-2.06.94zm-11 1L8.5 8.5l.94-2.06 2.06-.94-2.06-.94L8.5 2.5l-.94 2.06-2.06.94zm10 10l.94 2.06.94-2.06 2.06-.94-2.06-.94-.94-2.06-.94 2.06-2.06.94z\"/><path d=\"M17.41 7.96l-1.37-1.37c-.4-.4-.92-.59-1.43-.59-.52 0-1.04.2-1.43.59L10.3 9.45l-7.72 7.72c-.78.78-.78 2.05 0 2.83L4 21.41c.39.39.9.59 1.41.59.51 0 1.02-.2 1.41-.59l7.78-7.78 2.81-2.81c.8-.78.8-2.07 0-2.86zM5.41 20L4 18.59l7.72-7.72 1.47 1.35L5.41 20z\"/>\n",
              "  </svg>\n",
              "      </button>\n",
              "      \n",
              "  <style>\n",
              "    .colab-df-container {\n",
              "      display:flex;\n",
              "      flex-wrap:wrap;\n",
              "      gap: 12px;\n",
              "    }\n",
              "\n",
              "    .colab-df-convert {\n",
              "      background-color: #E8F0FE;\n",
              "      border: none;\n",
              "      border-radius: 50%;\n",
              "      cursor: pointer;\n",
              "      display: none;\n",
              "      fill: #1967D2;\n",
              "      height: 32px;\n",
              "      padding: 0 0 0 0;\n",
              "      width: 32px;\n",
              "    }\n",
              "\n",
              "    .colab-df-convert:hover {\n",
              "      background-color: #E2EBFA;\n",
              "      box-shadow: 0px 1px 2px rgba(60, 64, 67, 0.3), 0px 1px 3px 1px rgba(60, 64, 67, 0.15);\n",
              "      fill: #174EA6;\n",
              "    }\n",
              "\n",
              "    [theme=dark] .colab-df-convert {\n",
              "      background-color: #3B4455;\n",
              "      fill: #D2E3FC;\n",
              "    }\n",
              "\n",
              "    [theme=dark] .colab-df-convert:hover {\n",
              "      background-color: #434B5C;\n",
              "      box-shadow: 0px 1px 3px 1px rgba(0, 0, 0, 0.15);\n",
              "      filter: drop-shadow(0px 1px 2px rgba(0, 0, 0, 0.3));\n",
              "      fill: #FFFFFF;\n",
              "    }\n",
              "  </style>\n",
              "\n",
              "      <script>\n",
              "        const buttonEl =\n",
              "          document.querySelector('#df-e0dcc11d-d867-4d1c-8a70-f5869be29801 button.colab-df-convert');\n",
              "        buttonEl.style.display =\n",
              "          google.colab.kernel.accessAllowed ? 'block' : 'none';\n",
              "\n",
              "        async function convertToInteractive(key) {\n",
              "          const element = document.querySelector('#df-e0dcc11d-d867-4d1c-8a70-f5869be29801');\n",
              "          const dataTable =\n",
              "            await google.colab.kernel.invokeFunction('convertToInteractive',\n",
              "                                                     [key], {});\n",
              "          if (!dataTable) return;\n",
              "\n",
              "          const docLinkHtml = 'Like what you see? Visit the ' +\n",
              "            '<a target=\"_blank\" href=https://colab.research.google.com/notebooks/data_table.ipynb>data table notebook</a>'\n",
              "            + ' to learn more about interactive tables.';\n",
              "          element.innerHTML = '';\n",
              "          dataTable['output_type'] = 'display_data';\n",
              "          await google.colab.output.renderOutput(dataTable, element);\n",
              "          const docLink = document.createElement('div');\n",
              "          docLink.innerHTML = docLinkHtml;\n",
              "          element.appendChild(docLink);\n",
              "        }\n",
              "      </script>\n",
              "    </div>\n",
              "  </div>\n",
              "  "
            ]
          },
          "metadata": {},
          "execution_count": 23
        }
      ]
    },
    {
      "cell_type": "code",
      "source": [
        "import matplotlib.pyplot as plt\n",
        "import seaborn as sns\n",
        "plt.figure(figsize = (20,10))\n",
        "sns.heatmap(data.corr(), annot= True, cmap=\"winter\")"
      ],
      "metadata": {
        "colab": {
          "base_uri": "https://localhost:8080/",
          "height": 613
        },
        "id": "yfXvbPNQ0Izj",
        "outputId": "f88f8987-4229-4e35-ba43-305deca5fc71"
      },
      "execution_count": null,
      "outputs": [
        {
          "output_type": "execute_result",
          "data": {
            "text/plain": [
              "<matplotlib.axes._subplots.AxesSubplot at 0x7f8240d2d710>"
            ]
          },
          "metadata": {},
          "execution_count": 24
        },
        {
          "output_type": "display_data",
          "data": {
            "text/plain": [
              "<Figure size 1440x720 with 2 Axes>"
            ],
            "image/png": "[encoded data removed]"
          },
          "metadata": {
            "needs_background": "light"
          }
        }
      ]
    },
    {
      "cell_type": "code",
      "source": [
        "data.describe()"
      ],
      "metadata": {
        "colab": {
          "base_uri": "https://localhost:8080/",
          "height": 364
        },
        "id": "ks83CJhv19KG",
        "outputId": "d02fd0c7-5fb0-4222-83b1-c7f67886e110"
      },
      "execution_count": null,
      "outputs": [
        {
          "output_type": "execute_result",
          "data": {
            "text/plain": [
              "         Landslide       Aspect    Curvature   Earthquake    Elevation  \\\n",
              "count  1212.000000  1212.000000  1212.000000  1212.000000  1212.000000   \n",
              "mean      0.500000     2.962046     2.977723     2.102310     2.436469   \n",
              "std       0.500206     1.147378     1.099658     0.669812     1.242686   \n",
              "min       0.000000     1.000000     1.000000     1.000000     1.000000   \n",
              "25%       0.000000     2.000000     2.000000     2.000000     1.000000   \n",
              "50%       0.500000     3.000000     3.000000     2.000000     2.000000   \n",
              "75%       1.000000     4.000000     4.000000     3.000000     3.000000   \n",
              "max       1.000000     5.000000     5.000000     3.000000     5.000000   \n",
              "\n",
              "              Flow    Lithology         NDVI         NDWI         Plan  \\\n",
              "count  1212.000000  1212.000000  1212.000000  1212.000000  1212.000000   \n",
              "mean      2.338284     1.948845     3.042904     2.773927     3.059406   \n",
              "std       1.112686     1.424345     1.239246     1.299830     1.057287   \n",
              "min       1.000000     1.000000     1.000000     1.000000     1.000000   \n",
              "25%       2.000000     1.000000     2.000000     2.000000     2.000000   \n",
              "50%       2.000000     1.000000     3.000000     3.000000     3.000000   \n",
              "75%       3.000000     3.000000     4.000000     4.000000     4.000000   \n",
              "max       5.000000     6.000000     5.000000     5.000000     5.000000   \n",
              "\n",
              "       Precipitation      Profile        Slope  \n",
              "count    1212.000000  1212.000000  1212.000000  \n",
              "mean        3.813531     3.262376     2.811881  \n",
              "std         1.347799     1.039502     1.194229  \n",
              "min         1.000000     1.000000     1.000000  \n",
              "25%         3.000000     3.000000     2.000000  \n",
              "50%         4.000000     3.000000     3.000000  \n",
              "75%         5.000000     4.000000     4.000000  \n",
              "max         5.000000     5.000000     5.000000  "
            ],
            "text/html": [
              "\n",
              "  <div id=\"df-f85a627a-84e9-4288-909b-4f49934d1bfc\">\n",
              "    <div class=\"colab-df-container\">\n",
              "      <div>\n",
              "<style scoped>\n",
              "    .dataframe tbody tr th:only-of-type {\n",
              "        vertical-align: middle;\n",
              "    }\n",
              "\n",
              "    .dataframe tbody tr th {\n",
              "        vertical-align: top;\n",
              "    }\n",
              "\n",
              "    .dataframe thead th {\n",
              "        text-align: right;\n",
              "    }\n",
              "</style>\n",
              "<table border=\"1\" class=\"dataframe\">\n",
              "  <thead>\n",
              "    <tr style=\"text-align: right;\">\n",
              "      <th></th>\n",
              "      <th>Landslide</th>\n",
              "      <th>Aspect</th>\n",
              "      <th>Curvature</th>\n",
              "      <th>Earthquake</th>\n",
              "      <th>Elevation</th>\n",
              "      <th>Flow</th>\n",
              "      <th>Lithology</th>\n",
              "      <th>NDVI</th>\n",
              "      <th>NDWI</th>\n",
              "      <th>Plan</th>\n",
              "      <th>Precipitation</th>\n",
              "      <th>Profile</th>\n",
              "      <th>Slope</th>\n",
              "    </tr>\n",
              "  </thead>\n",
              "  <tbody>\n",
              "    <tr>\n",
              "      <th>count</th>\n",
              "      <td>1212.000000</td>\n",
              "      <td>1212.000000</td>\n",
              "      <td>1212.000000</td>\n",
              "      <td>1212.000000</td>\n",
              "      <td>1212.000000</td>\n",
              "      <td>1212.000000</td>\n",
              "      <td>1212.000000</td>\n",
              "      <td>1212.000000</td>\n",
              "      <td>1212.000000</td>\n",
              "      <td>1212.000000</td>\n",
              "      <td>1212.000000</td>\n",
              "      <td>1212.000000</td>\n",
              "      <td>1212.000000</td>\n",
              "    </tr>\n",
              "    <tr>\n",
              "      <th>mean</th>\n",
              "      <td>0.500000</td>\n",
              "      <td>2.962046</td>\n",
              "      <td>2.977723</td>\n",
              "      <td>2.102310</td>\n",
              "      <td>2.436469</td>\n",
              "      <td>2.338284</td>\n",
              "      <td>1.948845</td>\n",
              "      <td>3.042904</td>\n",
              "      <td>2.773927</td>\n",
              "      <td>3.059406</td>\n",
              "      <td>3.813531</td>\n",
              "      <td>3.262376</td>\n",
              "      <td>2.811881</td>\n",
              "    </tr>\n",
              "    <tr>\n",
              "      <th>std</th>\n",
              "      <td>0.500206</td>\n",
              "      <td>1.147378</td>\n",
              "      <td>1.099658</td>\n",
              "      <td>0.669812</td>\n",
              "      <td>1.242686</td>\n",
              "      <td>1.112686</td>\n",
              "      <td>1.424345</td>\n",
              "      <td>1.239246</td>\n",
              "      <td>1.299830</td>\n",
              "      <td>1.057287</td>\n",
              "      <td>1.347799</td>\n",
              "      <td>1.039502</td>\n",
              "      <td>1.194229</td>\n",
              "    </tr>\n",
              "    <tr>\n",
              "      <th>min</th>\n",
              "      <td>0.000000</td>\n",
              "      <td>1.000000</td>\n",
              "      <td>1.000000</td>\n",
              "      <td>1.000000</td>\n",
              "      <td>1.000000</td>\n",
              "      <td>1.000000</td>\n",
              "      <td>1.000000</td>\n",
              "      <td>1.000000</td>\n",
              "      <td>1.000000</td>\n",
              "      <td>1.000000</td>\n",
              "      <td>1.000000</td>\n",
              "      <td>1.000000</td>\n",
              "      <td>1.000000</td>\n",
              "    </tr>\n",
              "    <tr>\n",
              "      <th>25%</th>\n",
              "      <td>0.000000</td>\n",
              "      <td>2.000000</td>\n",
              "      <td>2.000000</td>\n",
              "      <td>2.000000</td>\n",
              "      <td>1.000000</td>\n",
              "      <td>2.000000</td>\n",
              "      <td>1.000000</td>\n",
              "      <td>2.000000</td>\n",
              "      <td>2.000000</td>\n",
              "      <td>2.000000</td>\n",
              "      <td>3.000000</td>\n",
              "      <td>3.000000</td>\n",
              "      <td>2.000000</td>\n",
              "    </tr>\n",
              "    <tr>\n",
              "      <th>50%</th>\n",
              "      <td>0.500000</td>\n",
              "      <td>3.000000</td>\n",
              "      <td>3.000000</td>\n",
              "      <td>2.000000</td>\n",
              "      <td>2.000000</td>\n",
              "      <td>2.000000</td>\n",
              "      <td>1.000000</td>\n",
              "      <td>3.000000</td>\n",
              "      <td>3.000000</td>\n",
              "      <td>3.000000</td>\n",
              "      <td>4.000000</td>\n",
              "      <td>3.000000</td>\n",
              "      <td>3.000000</td>\n",
              "    </tr>\n",
              "    <tr>\n",
              "      <th>75%</th>\n",
              "      <td>1.000000</td>\n",
              "      <td>4.000000</td>\n",
              "      <td>4.000000</td>\n",
              "      <td>3.000000</td>\n",
              "      <td>3.000000</td>\n",
              "      <td>3.000000</td>\n",
              "      <td>3.000000</td>\n",
              "      <td>4.000000</td>\n",
              "      <td>4.000000</td>\n",
              "      <td>4.000000</td>\n",
              "      <td>5.000000</td>\n",
              "      <td>4.000000</td>\n",
              "      <td>4.000000</td>\n",
              "    </tr>\n",
              "    <tr>\n",
              "      <th>max</th>\n",
              "      <td>1.000000</td>\n",
              "      <td>5.000000</td>\n",
              "      <td>5.000000</td>\n",
              "      <td>3.000000</td>\n",
              "      <td>5.000000</td>\n",
              "      <td>5.000000</td>\n",
              "      <td>6.000000</td>\n",
              "      <td>5.000000</td>\n",
              "      <td>5.000000</td>\n",
              "      <td>5.000000</td>\n",
              "      <td>5.000000</td>\n",
              "      <td>5.000000</td>\n",
              "      <td>5.000000</td>\n",
              "    </tr>\n",
              "  </tbody>\n",
              "</table>\n",
              "</div>\n",
              "      <button class=\"colab-df-convert\" onclick=\"convertToInteractive('df-f85a627a-84e9-4288-909b-4f49934d1bfc')\"\n",
              "              title=\"Convert this dataframe to an interactive table.\"\n",
              "              style=\"display:none;\">\n",
              "        \n",
              "  <svg xmlns=\"http://www.w3.org/2000/svg\" height=\"24px\"viewBox=\"0 0 24 24\"\n",
              "       width=\"24px\">\n",
              "    <path d=\"M0 0h24v24H0V0z\" fill=\"none\"/>\n",
              "    <path d=\"M18.56 5.44l.94 2.06.94-2.06 2.06-.94-2.06-.94-.94-2.06-.94 2.06-2.06.94zm-11 1L8.5 8.5l.94-2.06 2.06-.94-2.06-.94L8.5 2.5l-.94 2.06-2.06.94zm10 10l.94 2.06.94-2.06 2.06-.94-2.06-.94-.94-2.06-.94 2.06-2.06.94z\"/><path d=\"M17.41 7.96l-1.37-1.37c-.4-.4-.92-.59-1.43-.59-.52 0-1.04.2-1.43.59L10.3 9.45l-7.72 7.72c-.78.78-.78 2.05 0 2.83L4 21.41c.39.39.9.59 1.41.59.51 0 1.02-.2 1.41-.59l7.78-7.78 2.81-2.81c.8-.78.8-2.07 0-2.86zM5.41 20L4 18.59l7.72-7.72 1.47 1.35L5.41 20z\"/>\n",
              "  </svg>\n",
              "      </button>\n",
              "      \n",
              "  <style>\n",
              "    .colab-df-container {\n",
              "      display:flex;\n",
              "      flex-wrap:wrap;\n",
              "      gap: 12px;\n",
              "    }\n",
              "\n",
              "    .colab-df-convert {\n",
              "      background-color: #E8F0FE;\n",
              "      border: none;\n",
              "      border-radius: 50%;\n",
              "      cursor: pointer;\n",
              "      display: none;\n",
              "      fill: #1967D2;\n",
              "      height: 32px;\n",
              "      padding: 0 0 0 0;\n",
              "      width: 32px;\n",
              "    }\n",
              "\n",
              "    .colab-df-convert:hover {\n",
              "      background-color: #E2EBFA;\n",
              "      box-shadow: 0px 1px 2px rgba(60, 64, 67, 0.3), 0px 1px 3px 1px rgba(60, 64, 67, 0.15);\n",
              "      fill: #174EA6;\n",
              "    }\n",
              "\n",
              "    [theme=dark] .colab-df-convert {\n",
              "      background-color: #3B4455;\n",
              "      fill: #D2E3FC;\n",
              "    }\n",
              "\n",
              "    [theme=dark] .colab-df-convert:hover {\n",
              "      background-color: #434B5C;\n",
              "      box-shadow: 0px 1px 3px 1px rgba(0, 0, 0, 0.15);\n",
              "      filter: drop-shadow(0px 1px 2px rgba(0, 0, 0, 0.3));\n",
              "      fill: #FFFFFF;\n",
              "    }\n",
              "  </style>\n",
              "\n",
              "      <script>\n",
              "        const buttonEl =\n",
              "          document.querySelector('#df-f85a627a-84e9-4288-909b-4f49934d1bfc button.colab-df-convert');\n",
              "        buttonEl.style.display =\n",
              "          google.colab.kernel.accessAllowed ? 'block' : 'none';\n",
              "\n",
              "        async function convertToInteractive(key) {\n",
              "          const element = document.querySelector('#df-f85a627a-84e9-4288-909b-4f49934d1bfc');\n",
              "          const dataTable =\n",
              "            await google.colab.kernel.invokeFunction('convertToInteractive',\n",
              "                                                     [key], {});\n",
              "          if (!dataTable) return;\n",
              "\n",
              "          const docLinkHtml = 'Like what you see? Visit the ' +\n",
              "            '<a target=\"_blank\" href=https://colab.research.google.com/notebooks/data_table.ipynb>data table notebook</a>'\n",
              "            + ' to learn more about interactive tables.';\n",
              "          element.innerHTML = '';\n",
              "          dataTable['output_type'] = 'display_data';\n",
              "          await google.colab.output.renderOutput(dataTable, element);\n",
              "          const docLink = document.createElement('div');\n",
              "          docLink.innerHTML = docLinkHtml;\n",
              "          element.appendChild(docLink);\n",
              "        }\n",
              "      </script>\n",
              "    </div>\n",
              "  </div>\n",
              "  "
            ]
          },
          "metadata": {},
          "execution_count": 25
        }
      ]
    },
    {
      "cell_type": "code",
      "source": [
        "from sklearn.decomposition import PCA\n",
        "from sklearn.preprocessing import StandardScaler\n",
        "scaler = StandardScaler()\n",
        "scaler.fit(x)\n",
        "scaled_x= scaler.transform(x)"
      ],
      "metadata": {
        "id": "o_cclrSGyVr9"
      },
      "execution_count": null,
      "outputs": []
    },
    {
      "cell_type": "code",
      "source": [
        "pca = PCA(n_components=8)\n",
        "pca.fit(scaled_x)\n",
        "pca_x =pca.transform(scaled_x)\n",
        "pca_x.shape"
      ],
      "metadata": {
        "id": "A3cJpZ6vzsyT",
        "outputId": "cce825de-bb92-4328-d2c7-09e1d3bdec34",
        "colab": {
          "base_uri": "https://localhost:8080/"
        }
      },
      "execution_count": null,
      "outputs": [
        {
          "output_type": "execute_result",
          "data": {
            "text/plain": [
              "(1212, 8)"
            ]
          },
          "metadata": {},
          "execution_count": 27
        }
      ]
    },
    {
      "cell_type": "code",
      "source": [
        "from sklearn.model_selection import cross_val_predict\n",
        "from sklearn.model_selection import GridSearchCV\n",
        "#Support Vector Machine (SVM)\n",
        "param_grid = {'C' : [0,1,1,10,100,1000],\n",
        "              'gamma' : [1,0.1,0.01,0.001,0.0001],\n",
        "              'kernel' : ['rbf']}\n",
        "\n",
        "grid = GridSearchCV(SVC(), param_grid, refit= True, verbose= 3)\n",
        "grid.fit(pca_x,y)\n",
        "grid.best_params_\n"
      ],
      "metadata": {
        "colab": {
          "base_uri": "https://localhost:8080/"
        },
        "id": "1GllWboq38CT",
        "outputId": "eae1a97b-3f79-4c0d-87e2-a19eeafd8163"
      },
      "execution_count": null,
      "outputs": [
        {
          "output_type": "stream",
          "name": "stdout",
          "text": [
            "Fitting 5 folds for each of 30 candidates, totalling 150 fits\n",
            "[CV 1/5] END ............C=0, gamma=1, kernel=rbf;, score=nan total time=   0.0s\n",
            "[CV 2/5] END ............C=0, gamma=1, kernel=rbf;, score=nan total time=   0.0s\n",
            "[CV 3/5] END ............C=0, gamma=1, kernel=rbf;, score=nan total time=   0.0s\n",
            "[CV 4/5] END ............C=0, gamma=1, kernel=rbf;, score=nan total time=   0.0s\n",
            "[CV 5/5] END ............C=0, gamma=1, kernel=rbf;, score=nan total time=   0.0s\n",
            "[CV 1/5] END ..........C=0, gamma=0.1, kernel=rbf;, score=nan total time=   0.0s\n",
            "[CV 2/5] END ..........C=0, gamma=0.1, kernel=rbf;, score=nan total time=   0.0s\n",
            "[CV 3/5] END ..........C=0, gamma=0.1, kernel=rbf;, score=nan total time=   0.0s\n",
            "[CV 4/5] END ..........C=0, gamma=0.1, kernel=rbf;, score=nan total time=   0.0s\n",
            "[CV 5/5] END ..........C=0, gamma=0.1, kernel=rbf;, score=nan total time=   0.0s\n",
            "[CV 1/5] END .........C=0, gamma=0.01, kernel=rbf;, score=nan total time=   0.0s\n",
            "[CV 2/5] END .........C=0, gamma=0.01, kernel=rbf;, score=nan total time=   0.0s\n",
            "[CV 3/5] END .........C=0, gamma=0.01, kernel=rbf;, score=nan total time=   0.0s\n",
            "[CV 4/5] END .........C=0, gamma=0.01, kernel=rbf;, score=nan total time=   0.0s\n",
            "[CV 5/5] END .........C=0, gamma=0.01, kernel=rbf;, score=nan total time=   0.0s\n",
            "[CV 1/5] END ........C=0, gamma=0.001, kernel=rbf;, score=nan total time=   0.0s\n",
            "[CV 2/5] END ........C=0, gamma=0.001, kernel=rbf;, score=nan total time=   0.0s\n",
            "[CV 3/5] END ........C=0, gamma=0.001, kernel=rbf;, score=nan total time=   0.0s\n",
            "[CV 4/5] END ........C=0, gamma=0.001, kernel=rbf;, score=nan total time=   0.0s\n",
            "[CV 5/5] END ........C=0, gamma=0.001, kernel=rbf;, score=nan total time=   0.0s\n",
            "[CV 1/5] END .......C=0, gamma=0.0001, kernel=rbf;, score=nan total time=   0.0s\n",
            "[CV 2/5] END .......C=0, gamma=0.0001, kernel=rbf;, score=nan total time=   0.0s\n",
            "[CV 3/5] END .......C=0, gamma=0.0001, kernel=rbf;, score=nan total time=   0.0s\n",
            "[CV 4/5] END .......C=0, gamma=0.0001, kernel=rbf;, score=nan total time=   0.0s\n",
            "[CV 5/5] END .......C=0, gamma=0.0001, kernel=rbf;, score=nan total time=   0.0s\n",
            "[CV 1/5] END ..........C=1, gamma=1, kernel=rbf;, score=0.663 total time=   0.2s\n",
            "[CV 2/5] END ..........C=1, gamma=1, kernel=rbf;, score=0.749 total time=   0.1s\n",
            "[CV 3/5] END ..........C=1, gamma=1, kernel=rbf;, score=0.636 total time=   0.2s\n",
            "[CV 4/5] END ..........C=1, gamma=1, kernel=rbf;, score=0.702 total time=   0.1s\n",
            "[CV 5/5] END ..........C=1, gamma=1, kernel=rbf;, score=0.562 total time=   0.1s\n",
            "[CV 1/5] END ........C=1, gamma=0.1, kernel=rbf;, score=0.765 total time=   0.1s\n",
            "[CV 2/5] END ........C=1, gamma=0.1, kernel=rbf;, score=0.823 total time=   0.1s\n",
            "[CV 3/5] END ........C=1, gamma=0.1, kernel=rbf;, score=0.756 total time=   0.1s\n",
            "[CV 4/5] END ........C=1, gamma=0.1, kernel=rbf;, score=0.806 total time=   0.1s\n",
            "[CV 5/5] END ........C=1, gamma=0.1, kernel=rbf;, score=0.545 total time=   0.1s\n",
            "[CV 1/5] END .......C=1, gamma=0.01, kernel=rbf;, score=0.757 total time=   0.1s\n",
            "[CV 2/5] END .......C=1, gamma=0.01, kernel=rbf;, score=0.782 total time=   0.1s\n",
            "[CV 3/5] END .......C=1, gamma=0.01, kernel=rbf;, score=0.760 total time=   0.1s\n",
            "[CV 4/5] END .......C=1, gamma=0.01, kernel=rbf;, score=0.731 total time=   0.1s\n",
            "[CV 5/5] END .......C=1, gamma=0.01, kernel=rbf;, score=0.537 total time=   0.1s\n",
            "[CV 1/5] END ......C=1, gamma=0.001, kernel=rbf;, score=0.712 total time=   0.1s\n",
            "[CV 2/5] END ......C=1, gamma=0.001, kernel=rbf;, score=0.761 total time=   0.2s\n",
            "[CV 3/5] END ......C=1, gamma=0.001, kernel=rbf;, score=0.653 total time=   0.1s\n",
            "[CV 4/5] END ......C=1, gamma=0.001, kernel=rbf;, score=0.744 total time=   0.1s\n",
            "[CV 5/5] END ......C=1, gamma=0.001, kernel=rbf;, score=0.500 total time=   0.2s\n",
            "[CV 1/5] END .....C=1, gamma=0.0001, kernel=rbf;, score=0.498 total time=   0.1s\n",
            "[CV 2/5] END .....C=1, gamma=0.0001, kernel=rbf;, score=0.498 total time=   0.2s\n",
            "[CV 3/5] END .....C=1, gamma=0.0001, kernel=rbf;, score=0.607 total time=   0.2s\n",
            "[CV 4/5] END .....C=1, gamma=0.0001, kernel=rbf;, score=0.678 total time=   0.1s\n",
            "[CV 5/5] END .....C=1, gamma=0.0001, kernel=rbf;, score=0.500 total time=   0.2s\n",
            "[CV 1/5] END ..........C=1, gamma=1, kernel=rbf;, score=0.663 total time=   0.2s\n",
            "[CV 2/5] END ..........C=1, gamma=1, kernel=rbf;, score=0.749 total time=   0.2s\n",
            "[CV 3/5] END ..........C=1, gamma=1, kernel=rbf;, score=0.636 total time=   0.2s\n",
            "[CV 4/5] END ..........C=1, gamma=1, kernel=rbf;, score=0.702 total time=   0.3s\n",
            "[CV 5/5] END ..........C=1, gamma=1, kernel=rbf;, score=0.562 total time=   0.1s\n",
            "[CV 1/5] END ........C=1, gamma=0.1, kernel=rbf;, score=0.765 total time=   0.0s\n",
            "[CV 2/5] END ........C=1, gamma=0.1, kernel=rbf;, score=0.823 total time=   0.1s\n",
            "[CV 3/5] END ........C=1, gamma=0.1, kernel=rbf;, score=0.756 total time=   0.1s\n",
            "[CV 4/5] END ........C=1, gamma=0.1, kernel=rbf;, score=0.806 total time=   0.0s\n",
            "[CV 5/5] END ........C=1, gamma=0.1, kernel=rbf;, score=0.545 total time=   0.0s\n",
            "[CV 1/5] END .......C=1, gamma=0.01, kernel=rbf;, score=0.757 total time=   0.1s\n",
            "[CV 2/5] END .......C=1, gamma=0.01, kernel=rbf;, score=0.782 total time=   0.1s\n",
            "[CV 3/5] END .......C=1, gamma=0.01, kernel=rbf;, score=0.760 total time=   0.1s\n",
            "[CV 4/5] END .......C=1, gamma=0.01, kernel=rbf;, score=0.731 total time=   0.1s\n",
            "[CV 5/5] END .......C=1, gamma=0.01, kernel=rbf;, score=0.537 total time=   0.0s\n",
            "[CV 1/5] END ......C=1, gamma=0.001, kernel=rbf;, score=0.712 total time=   0.1s\n",
            "[CV 2/5] END ......C=1, gamma=0.001, kernel=rbf;, score=0.761 total time=   0.1s\n",
            "[CV 3/5] END ......C=1, gamma=0.001, kernel=rbf;, score=0.653 total time=   0.1s\n",
            "[CV 4/5] END ......C=1, gamma=0.001, kernel=rbf;, score=0.744 total time=   0.1s\n",
            "[CV 5/5] END ......C=1, gamma=0.001, kernel=rbf;, score=0.500 total time=   0.1s\n",
            "[CV 1/5] END .....C=1, gamma=0.0001, kernel=rbf;, score=0.498 total time=   0.1s\n",
            "[CV 2/5] END .....C=1, gamma=0.0001, kernel=rbf;, score=0.498 total time=   0.1s\n",
            "[CV 3/5] END .....C=1, gamma=0.0001, kernel=rbf;, score=0.607 total time=   0.1s\n",
            "[CV 4/5] END .....C=1, gamma=0.0001, kernel=rbf;, score=0.678 total time=   0.1s\n",
            "[CV 5/5] END .....C=1, gamma=0.0001, kernel=rbf;, score=0.500 total time=   0.1s\n",
            "[CV 1/5] END .........C=10, gamma=1, kernel=rbf;, score=0.642 total time=   0.1s\n",
            "[CV 2/5] END .........C=10, gamma=1, kernel=rbf;, score=0.749 total time=   0.1s\n",
            "[CV 3/5] END .........C=10, gamma=1, kernel=rbf;, score=0.591 total time=   0.1s\n",
            "[CV 4/5] END .........C=10, gamma=1, kernel=rbf;, score=0.702 total time=   0.1s\n",
            "[CV 5/5] END .........C=10, gamma=1, kernel=rbf;, score=0.545 total time=   0.1s\n",
            "[CV 1/5] END .......C=10, gamma=0.1, kernel=rbf;, score=0.716 total time=   0.1s\n",
            "[CV 2/5] END .......C=10, gamma=0.1, kernel=rbf;, score=0.741 total time=   0.1s\n",
            "[CV 3/5] END .......C=10, gamma=0.1, kernel=rbf;, score=0.690 total time=   0.1s\n",
            "[CV 4/5] END .......C=10, gamma=0.1, kernel=rbf;, score=0.702 total time=   0.1s\n",
            "[CV 5/5] END .......C=10, gamma=0.1, kernel=rbf;, score=0.554 total time=   0.0s\n",
            "[CV 1/5] END ......C=10, gamma=0.01, kernel=rbf;, score=0.765 total time=   0.0s\n",
            "[CV 2/5] END ......C=10, gamma=0.01, kernel=rbf;, score=0.811 total time=   0.1s\n",
            "[CV 3/5] END ......C=10, gamma=0.01, kernel=rbf;, score=0.760 total time=   0.0s\n",
            "[CV 4/5] END ......C=10, gamma=0.01, kernel=rbf;, score=0.793 total time=   0.1s\n",
            "[CV 5/5] END ......C=10, gamma=0.01, kernel=rbf;, score=0.591 total time=   0.0s\n",
            "[CV 1/5] END .....C=10, gamma=0.001, kernel=rbf;, score=0.757 total time=   0.1s\n",
            "[CV 2/5] END .....C=10, gamma=0.001, kernel=rbf;, score=0.757 total time=   0.1s\n",
            "[CV 3/5] END .....C=10, gamma=0.001, kernel=rbf;, score=0.698 total time=   0.1s\n",
            "[CV 4/5] END .....C=10, gamma=0.001, kernel=rbf;, score=0.719 total time=   0.1s\n",
            "[CV 5/5] END .....C=10, gamma=0.001, kernel=rbf;, score=0.512 total time=   0.0s\n",
            "[CV 1/5] END ....C=10, gamma=0.0001, kernel=rbf;, score=0.712 total time=   0.1s\n",
            "[CV 2/5] END ....C=10, gamma=0.0001, kernel=rbf;, score=0.761 total time=   0.1s\n",
            "[CV 3/5] END ....C=10, gamma=0.0001, kernel=rbf;, score=0.649 total time=   0.1s\n",
            "[CV 4/5] END ....C=10, gamma=0.0001, kernel=rbf;, score=0.744 total time=   0.1s\n",
            "[CV 5/5] END ....C=10, gamma=0.0001, kernel=rbf;, score=0.500 total time=   0.1s\n",
            "[CV 1/5] END ........C=100, gamma=1, kernel=rbf;, score=0.642 total time=   0.1s\n",
            "[CV 2/5] END ........C=100, gamma=1, kernel=rbf;, score=0.749 total time=   0.1s\n",
            "[CV 3/5] END ........C=100, gamma=1, kernel=rbf;, score=0.591 total time=   0.1s\n",
            "[CV 4/5] END ........C=100, gamma=1, kernel=rbf;, score=0.702 total time=   0.1s\n",
            "[CV 5/5] END ........C=100, gamma=1, kernel=rbf;, score=0.545 total time=   0.1s\n",
            "[CV 1/5] END ......C=100, gamma=0.1, kernel=rbf;, score=0.642 total time=   0.1s\n",
            "[CV 2/5] END ......C=100, gamma=0.1, kernel=rbf;, score=0.704 total time=   0.1s\n",
            "[CV 3/5] END ......C=100, gamma=0.1, kernel=rbf;, score=0.682 total time=   0.1s\n",
            "[CV 4/5] END ......C=100, gamma=0.1, kernel=rbf;, score=0.665 total time=   0.1s\n",
            "[CV 5/5] END ......C=100, gamma=0.1, kernel=rbf;, score=0.558 total time=   0.1s\n",
            "[CV 1/5] END .....C=100, gamma=0.01, kernel=rbf;, score=0.770 total time=   0.1s\n",
            "[CV 2/5] END .....C=100, gamma=0.01, kernel=rbf;, score=0.802 total time=   0.1s\n",
            "[CV 3/5] END .....C=100, gamma=0.01, kernel=rbf;, score=0.744 total time=   0.1s\n",
            "[CV 4/5] END .....C=100, gamma=0.01, kernel=rbf;, score=0.789 total time=   0.1s\n",
            "[CV 5/5] END .....C=100, gamma=0.01, kernel=rbf;, score=0.566 total time=   0.1s\n",
            "[CV 1/5] END ....C=100, gamma=0.001, kernel=rbf;, score=0.765 total time=   0.1s\n",
            "[CV 2/5] END ....C=100, gamma=0.001, kernel=rbf;, score=0.782 total time=   0.1s\n",
            "[CV 3/5] END ....C=100, gamma=0.001, kernel=rbf;, score=0.744 total time=   0.1s\n",
            "[CV 4/5] END ....C=100, gamma=0.001, kernel=rbf;, score=0.740 total time=   0.1s\n",
            "[CV 5/5] END ....C=100, gamma=0.001, kernel=rbf;, score=0.558 total time=   0.1s\n",
            "[CV 1/5] END ...C=100, gamma=0.0001, kernel=rbf;, score=0.753 total time=   0.1s\n",
            "[CV 2/5] END ...C=100, gamma=0.0001, kernel=rbf;, score=0.765 total time=   0.1s\n",
            "[CV 3/5] END ...C=100, gamma=0.0001, kernel=rbf;, score=0.678 total time=   0.1s\n",
            "[CV 4/5] END ...C=100, gamma=0.0001, kernel=rbf;, score=0.719 total time=   0.1s\n",
            "[CV 5/5] END ...C=100, gamma=0.0001, kernel=rbf;, score=0.496 total time=   0.0s\n",
            "[CV 1/5] END .......C=1000, gamma=1, kernel=rbf;, score=0.642 total time=   0.1s\n",
            "[CV 2/5] END .......C=1000, gamma=1, kernel=rbf;, score=0.749 total time=   0.1s\n",
            "[CV 3/5] END .......C=1000, gamma=1, kernel=rbf;, score=0.591 total time=   0.1s\n",
            "[CV 4/5] END .......C=1000, gamma=1, kernel=rbf;, score=0.702 total time=   0.1s\n",
            "[CV 5/5] END .......C=1000, gamma=1, kernel=rbf;, score=0.545 total time=   0.1s\n",
            "[CV 1/5] END .....C=1000, gamma=0.1, kernel=rbf;, score=0.630 total time=   0.2s\n",
            "[CV 2/5] END .....C=1000, gamma=0.1, kernel=rbf;, score=0.687 total time=   0.3s\n",
            "[CV 3/5] END .....C=1000, gamma=0.1, kernel=rbf;, score=0.583 total time=   0.2s\n",
            "[CV 4/5] END .....C=1000, gamma=0.1, kernel=rbf;, score=0.640 total time=   0.2s\n",
            "[CV 5/5] END .....C=1000, gamma=0.1, kernel=rbf;, score=0.562 total time=   0.2s\n",
            "[CV 1/5] END ....C=1000, gamma=0.01, kernel=rbf;, score=0.753 total time=   0.3s\n",
            "[CV 2/5] END ....C=1000, gamma=0.01, kernel=rbf;, score=0.782 total time=   0.3s\n",
            "[CV 3/5] END ....C=1000, gamma=0.01, kernel=rbf;, score=0.682 total time=   0.2s\n",
            "[CV 4/5] END ....C=1000, gamma=0.01, kernel=rbf;, score=0.752 total time=   0.2s\n",
            "[CV 5/5] END ....C=1000, gamma=0.01, kernel=rbf;, score=0.566 total time=   0.2s\n",
            "[CV 1/5] END ...C=1000, gamma=0.001, kernel=rbf;, score=0.770 total time=   0.1s\n",
            "[CV 2/5] END ...C=1000, gamma=0.001, kernel=rbf;, score=0.802 total time=   0.1s\n",
            "[CV 3/5] END ...C=1000, gamma=0.001, kernel=rbf;, score=0.756 total time=   0.1s\n",
            "[CV 4/5] END ...C=1000, gamma=0.001, kernel=rbf;, score=0.789 total time=   0.1s\n",
            "[CV 5/5] END ...C=1000, gamma=0.001, kernel=rbf;, score=0.595 total time=   0.1s\n",
            "[CV 1/5] END ..C=1000, gamma=0.0001, kernel=rbf;, score=0.770 total time=   0.1s\n",
            "[CV 2/5] END ..C=1000, gamma=0.0001, kernel=rbf;, score=0.765 total time=   0.1s\n",
            "[CV 3/5] END ..C=1000, gamma=0.0001, kernel=rbf;, score=0.694 total time=   0.1s\n",
            "[CV 4/5] END ..C=1000, gamma=0.0001, kernel=rbf;, score=0.723 total time=   0.1s\n",
            "[CV 5/5] END ..C=1000, gamma=0.0001, kernel=rbf;, score=0.525 total time=   0.0s\n"
          ]
        },
        {
          "output_type": "stream",
          "name": "stderr",
          "text": [
            "/usr/local/lib/python3.7/dist-packages/sklearn/model_selection/_validation.py:372: FitFailedWarning: \n",
            "25 fits failed out of a total of 150.\n",
            "The score on these train-test partitions for these parameters will be set to nan.\n",
            "If these failures are not expected, you can try to debug them by setting error_score='raise'.\n",
            "\n",
            "Below are more details about the failures:\n",
            "--------------------------------------------------------------------------------\n",
            "25 fits failed with the following error:\n",
            "Traceback (most recent call last):\n",
            "  File \"/usr/local/lib/python3.7/dist-packages/sklearn/model_selection/_validation.py\", line 680, in _fit_and_score\n",
            "    estimator.fit(X_train, y_train, **fit_params)\n",
            "  File \"/usr/local/lib/python3.7/dist-packages/sklearn/svm/_base.py\", line 255, in fit\n",
            "    fit(X, y, sample_weight, solver_type, kernel, random_seed=seed)\n",
            "  File \"/usr/local/lib/python3.7/dist-packages/sklearn/svm/_base.py\", line 333, in _dense_fit\n",
            "    random_seed=random_seed,\n",
            "  File \"sklearn/svm/_libsvm.pyx\", line 189, in sklearn.svm._libsvm.fit\n",
            "ValueError: C <= 0\n",
            "\n",
            "  warnings.warn(some_fits_failed_message, FitFailedWarning)\n",
            "/usr/local/lib/python3.7/dist-packages/sklearn/model_selection/_search.py:972: UserWarning: One or more of the test scores are non-finite: [       nan        nan        nan        nan        nan 0.66246982\n",
            " 0.73918308 0.71360405 0.67398905 0.55620175 0.66246982 0.73918308\n",
            " 0.71360405 0.67398905 0.55620175 0.6459579  0.68061422 0.74415196\n",
            " 0.68883107 0.6731626  0.6459579  0.65012754 0.734238   0.71772948\n",
            " 0.6822161  0.6459579  0.62039928 0.70699588 0.74250247 0.69542564]\n",
            "  category=UserWarning,\n"
          ]
        },
        {
          "output_type": "execute_result",
          "data": {
            "text/plain": [
              "{'C': 10, 'gamma': 0.01, 'kernel': 'rbf'}"
            ]
          },
          "metadata": {},
          "execution_count": 28
        }
      ]
    },
    {
      "cell_type": "code",
      "source": [
        "from sklearn.metrics import accuracy_score\n",
        "from sklearn.feature_selection import mutual_info_classif\n",
        "#Support Vector Machine (SVM)\n",
        "svm = SVC(C= 10, gamma= 0.01, kernel= 'rbf')\n",
        "svm_y_pre = cross_val_predict(svm, pca_x, y, cv=10)\n",
        "svm_sc = accuracy_score(y, svm_y_pre) * 100\n",
        "svm_sc = \"{:.2f}\".format(svm_sc)\n",
        "print(svm_sc)"
      ],
      "metadata": {
        "colab": {
          "base_uri": "https://localhost:8080/"
        },
        "id": "I3On6T3oQ6Ip",
        "outputId": "af57a72b-c0b6-43fb-9295-72302388dcb9"
      },
      "execution_count": null,
      "outputs": [
        {
          "output_type": "stream",
          "name": "stdout",
          "text": [
            "75.99\n"
          ]
        }
      ]
    },
    {
      "cell_type": "code",
      "source": [
        "from sklearn.naive_bayes import GaussianNB\n",
        "\n",
        "nb = GaussianNB()\n",
        "nb_y_pre = cross_val_predict(nb, pca_x, y, cv=10)\n",
        "nb_sc = accuracy_score(y, nb_y_pre) * 100\n",
        "nb_sc = \"{:.2f}\".format(nb_sc)\n",
        "print(nb_sc)"
      ],
      "metadata": {
        "colab": {
          "base_uri": "https://localhost:8080/"
        },
        "id": "-RejhhD6_cfj",
        "outputId": "f9f5adfa-eeb4-46a2-e709-6b037ffb5740"
      },
      "execution_count": null,
      "outputs": [
        {
          "output_type": "stream",
          "name": "stdout",
          "text": [
            "72.44\n"
          ]
        }
      ]
    },
    {
      "cell_type": "code",
      "source": [
        "from sklearn.ensemble import RandomForestClassifier\n",
        "#random_forest\n",
        "rf = RandomForestClassifier(max_depth=100, random_state=20)\n",
        "rf_y_pre = cross_val_predict(rf, pca_x, y, cv=10)\n",
        "rf_sc = accuracy_score(y, rf_y_pre) * 100\n",
        "rf_sc = \"{:.2f}\".format(rf_sc)\n",
        "print(rf_sc)"
      ],
      "metadata": {
        "colab": {
          "base_uri": "https://localhost:8080/"
        },
        "id": "YM69YUfMA1yy",
        "outputId": "ebd9c1c6-08e8-41bf-ac37-12b2282c4c87"
      },
      "execution_count": null,
      "outputs": [
        {
          "output_type": "stream",
          "name": "stdout",
          "text": [
            "74.42\n"
          ]
        }
      ]
    },
    {
      "cell_type": "code",
      "source": [
        "from sklearn.tree import DecisionTreeClassifier\n",
        "#decision tree\n",
        "\n",
        "dt = DecisionTreeClassifier(criterion='entropy',max_depth=100, random_state=10)\n",
        "dt_y_pre = cross_val_predict(dt, pca_x, y, cv=10)\n",
        "dt_sc = accuracy_score(y, dt_y_pre) * 100\n",
        "dt_sc = \"{:.2f}\".format(dt_sc)\n",
        "print(dt_sc)"
      ],
      "metadata": {
        "colab": {
          "base_uri": "https://localhost:8080/"
        },
        "id": "P8YgSN8CD7ue",
        "outputId": "be19c9f1-fbc0-4a32-b2ab-638c02ed667d"
      },
      "execution_count": null,
      "outputs": [
        {
          "output_type": "stream",
          "name": "stdout",
          "text": [
            "63.78\n"
          ]
        }
      ]
    },
    {
      "cell_type": "code",
      "source": [
        "from sklearn.linear_model import LogisticRegression\n",
        "\n",
        "#logisrtic regression classifier\n",
        "\n",
        "lg = LogisticRegression(random_state=0)\n",
        "lg_y_pre = cross_val_predict(lg, pca_x, y, cv=10)\n",
        "lg_sc = accuracy_score(y, lg_y_pre) * 100\n",
        "lg_sc = \"{:.2f}\".format(lg_sc)\n",
        "print(lg_sc)"
      ],
      "metadata": {
        "colab": {
          "base_uri": "https://localhost:8080/"
        },
        "id": "OH7dLq14GWwT",
        "outputId": "9780e6bb-a717-462f-fc06-3d454e417f4b"
      },
      "execution_count": null,
      "outputs": [
        {
          "output_type": "stream",
          "name": "stdout",
          "text": [
            "69.64\n"
          ]
        }
      ]
    },
    {
      "cell_type": "code",
      "source": [
        "from sklearn.ensemble import VotingClassifier\n",
        "eclf1 = VotingClassifier(estimators=[('LG', lg), ('RF', rf)], voting='soft')\n",
        "eclf1.fit(X_train, Y_train)\n",
        "predictions = eclf1.predict(X_test)\n",
        "print(classification_report(Y_test, predictions))\n",
        "\n",
        "\n",
        "\n"
      ],
      "metadata": {
        "id": "zyJaFgG88tPa",
        "colab": {
          "base_uri": "https://localhost:8080/"
        },
        "outputId": "f533ba4c-34fb-40ef-a9ee-95f52879f81f"
      },
      "execution_count": null,
      "outputs": [
        {
          "output_type": "stream",
          "name": "stdout",
          "text": [
            "              precision    recall  f1-score   support\n",
            "\n",
            "           0       0.81      0.72      0.76       311\n",
            "           1       0.74      0.83      0.78       295\n",
            "\n",
            "    accuracy                           0.77       606\n",
            "   macro avg       0.78      0.77      0.77       606\n",
            "weighted avg       0.78      0.77      0.77       606\n",
            "\n"
          ]
        }
      ]
    },
    {
      "cell_type": "code",
      "source": [
        "from sklearn.ensemble import VotingClassifier\n",
        "eclf1 = VotingClassifier(estimators=[('DT', dt), ('RF', rf)], voting='soft')\n",
        "eclf1.fit(X_train, Y_train)\n",
        "predictions = eclf1.predict(X_test)\n",
        "print(classification_report(Y_test, predictions))"
      ],
      "metadata": {
        "id": "Lcffwk9j4BV4",
        "colab": {
          "base_uri": "https://localhost:8080/"
        },
        "outputId": "dff5eca1-761a-4941-8c00-6366616bb076"
      },
      "execution_count": null,
      "outputs": [
        {
          "output_type": "stream",
          "name": "stdout",
          "text": [
            "              precision    recall  f1-score   support\n",
            "\n",
            "           0       0.73      0.64      0.68       311\n",
            "           1       0.66      0.75      0.70       295\n",
            "\n",
            "    accuracy                           0.69       606\n",
            "   macro avg       0.70      0.69      0.69       606\n",
            "weighted avg       0.70      0.69      0.69       606\n",
            "\n"
          ]
        }
      ]
    },
    {
      "cell_type": "code",
      "source": [
        "from sklearn.ensemble import VotingClassifier\n",
        "eclf1 = VotingClassifier(estimators=[('DT', dt), ('LG', lg)], voting='soft')\n",
        "eclf1.fit(X_train, Y_train)\n",
        "predictions = eclf1.predict(X_test)\n",
        "print(classification_report(Y_test, predictions))"
      ],
      "metadata": {
        "id": "OR4cT6D027UL",
        "colab": {
          "base_uri": "https://localhost:8080/"
        },
        "outputId": "f2fea3ec-e2ad-4e9d-9d6c-04f3435d431c"
      },
      "execution_count": null,
      "outputs": [
        {
          "output_type": "stream",
          "name": "stdout",
          "text": [
            "              precision    recall  f1-score   support\n",
            "\n",
            "           0       0.73      0.64      0.68       311\n",
            "           1       0.66      0.75      0.70       295\n",
            "\n",
            "    accuracy                           0.69       606\n",
            "   macro avg       0.70      0.69      0.69       606\n",
            "weighted avg       0.70      0.69      0.69       606\n",
            "\n"
          ]
        }
      ]
    },
    {
      "cell_type": "code",
      "source": [
        "from sklearn.ensemble import VotingClassifier\n",
        "eclf1 = VotingClassifier(estimators=[('LG', lg), ('NB', nb)], voting='soft')\n",
        "eclf1.fit(X_train, Y_train)\n",
        "predictions = eclf1.predict(X_test)\n",
        "print(classification_report(Y_test, predictions))"
      ],
      "metadata": {
        "id": "MBazkjd_4VJj",
        "colab": {
          "base_uri": "https://localhost:8080/"
        },
        "outputId": "11c8a042-ef1b-4e80-b2fc-68e419d9c24d"
      },
      "execution_count": null,
      "outputs": [
        {
          "output_type": "stream",
          "name": "stdout",
          "text": [
            "              precision    recall  f1-score   support\n",
            "\n",
            "           0       0.82      0.68      0.74       311\n",
            "           1       0.71      0.84      0.77       295\n",
            "\n",
            "    accuracy                           0.76       606\n",
            "   macro avg       0.76      0.76      0.75       606\n",
            "weighted avg       0.77      0.76      0.75       606\n",
            "\n"
          ]
        }
      ]
    },
    {
      "cell_type": "code",
      "source": [
        "from sklearn.ensemble import VotingClassifier\n",
        "\n",
        "eclf1 = VotingClassifier(estimators=[('RF', rf), ('NB', nb)], voting='soft')\n",
        "eclf1.fit(X_train, Y_train)\n",
        "predictions = eclf1.predict(X_test)\n",
        "print(classification_report(Y_test, predictions))"
      ],
      "metadata": {
        "id": "EDhBM0DC4cfV",
        "colab": {
          "base_uri": "https://localhost:8080/"
        },
        "outputId": "9298bf9f-b95f-40a5-91e5-5e34e93a7b30"
      },
      "execution_count": null,
      "outputs": [
        {
          "output_type": "stream",
          "name": "stdout",
          "text": [
            "              precision    recall  f1-score   support\n",
            "\n",
            "           0       0.82      0.71      0.76       311\n",
            "           1       0.73      0.84      0.78       295\n",
            "\n",
            "    accuracy                           0.77       606\n",
            "   macro avg       0.78      0.78      0.77       606\n",
            "weighted avg       0.78      0.77      0.77       606\n",
            "\n"
          ]
        }
      ]
    },
    {
      "cell_type": "code",
      "source": [
        "from sklearn.ensemble import VotingClassifier\n",
        "\n",
        "eclf1 = VotingClassifier(estimators=[('RF', rf), ('NB', nb) ,('LG', lg),('DT', lg)], voting='soft')\n",
        "eclf1.fit(X_train, Y_train)\n",
        "predictions = eclf1.predict(X_test)\n",
        "print(classification_report(Y_test, predictions))"
      ],
      "metadata": {
        "id": "F6U4wacD5tuq",
        "colab": {
          "base_uri": "https://localhost:8080/"
        },
        "outputId": "d10b1b0a-1d44-48b5-a945-4d004d60dd8d"
      },
      "execution_count": null,
      "outputs": [
        {
          "output_type": "stream",
          "name": "stdout",
          "text": [
            "              precision    recall  f1-score   support\n",
            "\n",
            "           0       0.83      0.70      0.76       311\n",
            "           1       0.73      0.84      0.78       295\n",
            "\n",
            "    accuracy                           0.77       606\n",
            "   macro avg       0.78      0.77      0.77       606\n",
            "weighted avg       0.78      0.77      0.77       606\n",
            "\n"
          ]
        }
      ]
    },
    {
      "cell_type": "code",
      "source": [
        "from sklearn.ensemble import GradientBoostingClassifier\n",
        "#gardientBoostingClassidier\n",
        "\n",
        "GB = GradientBoostingClassifier(learning_rate=1.0,max_depth=1, random_state=1)\n",
        "GB_y_pre = cross_val_predict(GB, pca_x, y, cv=10)\n",
        "GB_sc = accuracy_score(y, GB_y_pre) * 100\n",
        "GB_sc = \"{:.2f}\".format(GB_sc)\n",
        "print(GB_sc)"
      ],
      "metadata": {
        "id": "q1aHh8R06-z4",
        "colab": {
          "base_uri": "https://localhost:8080/"
        },
        "outputId": "9b65db10-e1d6-4c8b-e03e-a55f2cd107a8"
      },
      "execution_count": null,
      "outputs": [
        {
          "output_type": "stream",
          "name": "stdout",
          "text": [
            "68.32\n"
          ]
        }
      ]
    },
    {
      "cell_type": "code",
      "source": [
        "from sklearn.ensemble import VotingClassifier\n",
        "\n",
        "eclf1 = VotingClassifier(estimators=[('GB', GB), ('AB', ab)], voting='soft')\n",
        "eclf1.fit(X_train, Y_train)\n",
        "predictions = eclf1.predict(X_test)\n",
        "print(classification_report(Y_test, predictions))"
      ],
      "metadata": {
        "id": "5Qttz4FI90xj",
        "colab": {
          "base_uri": "https://localhost:8080/"
        },
        "outputId": "865fc95c-f3c9-4e40-d40a-68eda1345bc4"
      },
      "execution_count": null,
      "outputs": [
        {
          "output_type": "stream",
          "name": "stdout",
          "text": [
            "              precision    recall  f1-score   support\n",
            "\n",
            "           0       0.79      0.68      0.74       311\n",
            "           1       0.71      0.81      0.76       295\n",
            "\n",
            "    accuracy                           0.75       606\n",
            "   macro avg       0.75      0.75      0.75       606\n",
            "weighted avg       0.75      0.75      0.75       606\n",
            "\n"
          ]
        }
      ]
    },
    {
      "cell_type": "code",
      "source": [
        "from sklearn.ensemble import AdaBoostClassifier\n",
        "#adaboost \n",
        "\n",
        "ab = AdaBoostClassifier(n_estimators=100, random_state=0)\n",
        "ab_y_pre = cross_val_predict(ab, pca_x, y, cv=10)\n",
        "ab_sc = accuracy_score(y, ab_y_pre) * 100\n",
        "ab_sc = \"{:.2f}\".format(ab_sc)\n",
        "print(ab_sc)"
      ],
      "metadata": {
        "id": "IbnJ_f5G8WNo",
        "colab": {
          "base_uri": "https://localhost:8080/"
        },
        "outputId": "f0e8744f-cff0-4db4-aed1-aefa442b936f"
      },
      "execution_count": null,
      "outputs": [
        {
          "output_type": "stream",
          "name": "stdout",
          "text": [
            "69.47\n"
          ]
        }
      ]
    }
  ]
}